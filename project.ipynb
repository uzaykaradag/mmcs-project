{
 "cells": [
  {
   "cell_type": "markdown",
   "source": [
    "## MMCS Project | Fraud Detection Model"
   ],
   "metadata": {
    "collapsed": false
   },
   "id": "fd40ab04f693d6fe"
  },
  {
   "cell_type": "code",
   "execution_count": 65,
   "outputs": [],
   "source": [
    "# Import the necessary libraries\n",
    "import pandas as pd\n",
    "from pulp import *"
   ],
   "metadata": {
    "collapsed": false,
    "ExecuteTime": {
     "end_time": "2023-11-21T15:29:51.474845Z",
     "start_time": "2023-11-21T15:29:51.468977Z"
    }
   },
   "id": "initial_id"
  },
  {
   "cell_type": "markdown",
   "source": [
    "Load the datasets for the transactions, customers and fraudulent transactions into seperate dataframes"
   ],
   "metadata": {
    "collapsed": false
   },
   "id": "af659a0eb66cc523"
  },
  {
   "cell_type": "code",
   "execution_count": 2,
   "outputs": [],
   "source": [
    "all_transactions = pd.read_excel('Data/transactions.xlsx')\n",
    "customers = pd.read_excel('Data/customers.xlsx')\n",
    "frauds = pd.read_excel('Data/frauds.xlsx')"
   ],
   "metadata": {
    "collapsed": false,
    "ExecuteTime": {
     "end_time": "2023-11-21T12:37:05.579032Z",
     "start_time": "2023-11-21T12:36:45.050623Z"
    }
   },
   "id": "c37d813858f92cae"
  },
  {
   "cell_type": "markdown",
   "source": [
    "Next we join the transaction and customer datasets so that we have the customer information for every transaction."
   ],
   "metadata": {
    "collapsed": false
   },
   "id": "d63771baa37448b8"
  },
  {
   "cell_type": "code",
   "execution_count": 3,
   "outputs": [
    {
     "data": {
      "text/plain": "Index(['transaction_id', 'description', 'Amount', 'category', 'date', 'month',\n       'customer_id', 'type', 'In_or_Out', 'bank_to', 'bank_from',\n       'transac_prob', 'description_prob', 'priority', 'home_bank',\n       'customer_prob'],\n      dtype='object')"
     },
     "execution_count": 3,
     "metadata": {},
     "output_type": "execute_result"
    }
   ],
   "source": [
    "all_transactions = pd.merge(all_transactions, customers, on='customer_id')"
   ],
   "metadata": {
    "collapsed": false,
    "ExecuteTime": {
     "end_time": "2023-11-21T12:41:40.629259Z",
     "start_time": "2023-11-21T12:41:40.567780Z"
    }
   },
   "id": "1dc54738278b0d82"
  },
  {
   "cell_type": "markdown",
   "source": [
    "We cleanup the DataFrame to make it easier to code the forthcoming logic, all we need to investigate is transactions that are paid out and are not cash withdrawals. So we are going to create a filtered dataframe *transations* from the *all_transactions* dataframe."
   ],
   "metadata": {
    "collapsed": false
   },
   "id": "8bef933d8422f380"
  },
  {
   "cell_type": "code",
   "execution_count": 10,
   "outputs": [],
   "source": [
    "all_transactions.columns = map(str.lower, all_transactions.columns)\n",
    "frauds.columns = map(str.lower, frauds.columns)"
   ],
   "metadata": {
    "collapsed": false,
    "ExecuteTime": {
     "end_time": "2023-11-21T12:50:30.689526Z",
     "start_time": "2023-11-21T12:50:30.686755Z"
    }
   },
   "id": "dc6f4b3490015da4"
  },
  {
   "cell_type": "code",
   "execution_count": 11,
   "outputs": [],
   "source": [
    "transactions = all_transactions.loc[(all_transactions['in_or_out'] == 'paid_out') & (all_transactions['category'] != 'Cash Withdrawal')]"
   ],
   "metadata": {
    "collapsed": false,
    "ExecuteTime": {
     "end_time": "2023-11-21T12:50:30.979943Z",
     "start_time": "2023-11-21T12:50:30.960025Z"
    }
   },
   "id": "125bae5880425552"
  },
  {
   "cell_type": "code",
   "execution_count": 61,
   "outputs": [],
   "source": [
    "transactions.set_index('transaction_id', inplace=True)"
   ],
   "metadata": {
    "collapsed": false,
    "ExecuteTime": {
     "end_time": "2023-11-21T14:48:27.465706Z",
     "start_time": "2023-11-21T14:48:27.456120Z"
    }
   },
   "id": "8b29d8ad5ae3226f"
  },
  {
   "cell_type": "markdown",
   "source": [
    "## Building the Initial Model"
   ],
   "metadata": {
    "collapsed": false
   },
   "id": "9a0e7a14cb2ad7ec"
  },
  {
   "cell_type": "code",
   "execution_count": 101,
   "outputs": [],
   "source": [
    "def solve_initial_model(df, lambda_c, lambda_d, daily_budget):\n",
    "    # Define the cost for external investigators based on priority\n",
    "    external_investigator_cost = {1: 40, 2: 60, 3: 100, 4: 150}\n",
    "    # Define the time (in days) it takes to investigate a transaction based on priority\n",
    "    time_needed = {1: 0.25, 2: 0.5, 3: 1, 4: 2}\n",
    "\n",
    "    # Create parameters based on the DataFrame indexed by transaction_id\n",
    "    V = df['amount']\n",
    "    P = 0.5 * df['customer_prob'] + 0.3 * df['description_prob'] + 0.2 * df['transac_prob']\n",
    "    C = df['priority'].map(external_investigator_cost)\n",
    "    t = df['priority'].map(time_needed)\n",
    "\n",
    "    # Bank capacity\n",
    "    T_bank = {'bank_a': 8, 'bank_b': 12, 'bank_c': 10, 'bank_d': 10, 'bank_e': 10}\n",
    "\n",
    "    # Define the model\n",
    "    model = LpProblem(\"Fraud_Investigation\", LpMaximize)\n",
    "\n",
    "    # Decision variables\n",
    "    x = LpVariable.dicts(\"x\", df.index, cat='Binary')\n",
    "    y = LpVariable.dicts(\"y\", df.index, cat='Binary')\n",
    "    z = LpVariable.dicts(\"z\", [(b, i) for b in T_bank.keys() for i in df.index], cat='Binary')\n",
    "\n",
    "    # Objective function\n",
    "    model += lpSum([V[i] * P[i] * (x[i] + y[i]) - C[i] * y[i] for i in df.index])\n",
    "\n",
    "    # Constraints\n",
    "    # 1. Investigation Exclusivity Constraint\n",
    "    for i in df.index:\n",
    "        model += x[i] + y[i] <= 1\n",
    "\n",
    "    # 2. Bank Capacity Constraints for Internal Investigation\n",
    "    for b in T_bank:\n",
    "        model += lpSum([t[i] * z[(b, i)] for i in df.index]) <= T_bank[b]\n",
    "\n",
    "    # 3. Bank Investigation Assignment Constraint\n",
    "    for i in df.index:\n",
    "        model += lpSum([z[(b, i)] for b in T_bank]) == x[i]\n",
    "\n",
    "    # 4. Budget Constraint for External Investigation\n",
    "    model += lpSum([y[i] * C[i] for i in df.index]) <= daily_budget\n",
    "\n",
    "    # 5. Variable Investigation per Category Ratio Constraint\n",
    "    for c in lambda_c:\n",
    "        I_c = df[df['category'] == c].index\n",
    "        model += lpSum([x[i] + y[i] for i in I_c]) <= lambda_c[c] * lpSum([x[i] + y[i] for i in df.index])\n",
    "    \n",
    "    for d in lambda_d:\n",
    "        I_d = df[df['description'].str.contains(d)].index\n",
    "        model += lpSum([x[i] + y[i] for i in I_d]) <= lambda_d[d] * lpSum([x[i] + y[i] for i in df.index])\n",
    "\n",
    "    # Solve the model\n",
    "    model.solve()\n",
    "\n",
    "    # Extract results\n",
    "    x_result = [i for i in df.index if x[i].varValue == 1]\n",
    "    y_result = [i for i in df.index if y[i].varValue == 1]\n",
    "\n",
    "    # Get the value of the objective function\n",
    "    objective_value = value(model.objective)\n",
    "\n",
    "    return x_result, y_result, objective_value"
   ],
   "metadata": {
    "collapsed": false,
    "ExecuteTime": {
     "end_time": "2023-11-21T15:58:50.902721Z",
     "start_time": "2023-11-21T15:58:50.899052Z"
    }
   },
   "id": "281e57f724f345f5"
  },
  {
   "cell_type": "code",
   "execution_count": 102,
   "outputs": [
    {
     "name": "stdout",
     "output_type": "stream",
     "text": [
      "Welcome to the CBC MILP Solver \n",
      "Version: 2.10.3 \n",
      "Build Date: Dec 15 2019 \n",
      "\n",
      "command line - /Users/uzaykaradag/.pyenv/versions/3.12.0/lib/python3.12/site-packages/pulp/solverdir/cbc/osx/64/cbc /var/folders/_g/3jdpr0d14q1g62hkp6vf5mlh0000gn/T/69ab73adf300417a88e8573736641f24-pulp.mps max timeMode elapsed branch printingOptions all solution /var/folders/_g/3jdpr0d14q1g62hkp6vf5mlh0000gn/T/69ab73adf300417a88e8573736641f24-pulp.sol (default strategy 1)\n",
      "At line 2 NAME          MODEL\n",
      "At line 3 ROWS\n",
      "At line 2281 COLUMNS\n",
      "At line 49826 RHS\n",
      "At line 52103 BOUNDS\n",
      "At line 60028 ENDATA\n",
      "Problem MODEL has 2276 rows, 7924 columns and 29432 elements\n",
      "Coin0008I MODEL read with 0 errors\n",
      "Option for timeMode changed from cpu to elapsed\n",
      "Continuous objective value is 14127.7 - 0.09 seconds\n",
      "Cgl0004I processed model has 2272 rows, 7924 columns (7924 integer (7924 of which binary)) and 20376 elements\n",
      "Cbc0038I Initial state - 9 integers unsatisfied sum - 1.7\n",
      "Cbc0038I Pass   1: suminf.    1.00000 (4) obj. -14104.9 iterations 429\n",
      "Cbc0038I Pass   2: suminf.    1.00000 (2) obj. -14052.5 iterations 297\n",
      "Cbc0038I Solution found of -14052.5\n",
      "Cbc0038I Before mini branch and bound, 7911 integers at bound fixed and 0 continuous\n",
      "Cbc0038I Full problem 2272 rows 7924 columns, reduced to 0 rows 0 columns\n",
      "Cbc0038I Mini branch and bound improved solution from -14052.5 to -14082.6 (0.26 seconds)\n",
      "Cbc0038I Round again with cutoff of -14087.1\n",
      "Cbc0038I Reduced cost fixing fixed 189 variables on major pass 2\n",
      "Cbc0038I Pass   3: suminf.    1.00000 (4) obj. -14104.9 iterations 0\n",
      "Cbc0038I Pass   4: suminf.    1.66558 (4) obj. -14087.1 iterations 596\n",
      "Cbc0038I Pass   5: suminf.    0.66558 (3) obj. -14087.1 iterations 343\n",
      "Cbc0038I Pass   6: suminf.    0.66558 (3) obj. -14087.1 iterations 248\n",
      "Cbc0038I Pass   7: suminf.    1.00000 (3) obj. -14104.4 iterations 135\n",
      "Cbc0038I Pass   8: suminf.    0.66558 (3) obj. -14087.1 iterations 97\n",
      "Cbc0038I Pass   9: suminf.    2.38694 (8) obj. -14087.1 iterations 318\n",
      "Cbc0038I Pass  10: suminf.    1.53287 (5) obj. -14087.1 iterations 454\n",
      "Cbc0038I Pass  11: suminf.    0.53287 (3) obj. -14087.1 iterations 207\n",
      "Cbc0038I Pass  12: suminf.    0.96466 (4) obj. -14087.1 iterations 121\n",
      "Cbc0038I Pass  13: suminf.    3.51287 (11) obj. -14087.1 iterations 366\n",
      "Cbc0038I Pass  14: suminf.    2.84192 (9) obj. -14087.1 iterations 514\n",
      "Cbc0038I Pass  15: suminf.    2.06437 (11) obj. -14087.1 iterations 644\n",
      "Cbc0038I Pass  16: suminf.    2.55766 (6) obj. -14087.1 iterations 550\n",
      "Cbc0038I Pass  17: suminf.    2.21745 (8) obj. -14087.1 iterations 159\n",
      "Cbc0038I Pass  18: suminf.    1.46667 (5) obj. -14087.1 iterations 389\n",
      "Cbc0038I Pass  19: suminf.    1.46667 (5) obj. -14087.1 iterations 74\n",
      "Cbc0038I Pass  20: suminf.    1.00000 (4) obj. -14090.1 iterations 55\n",
      "Cbc0038I Pass  21: suminf.    1.00000 (4) obj. -14087.1 iterations 52\n",
      "Cbc0038I Pass  22: suminf.    2.56000 (9) obj. -14087.1 iterations 489\n",
      "Cbc0038I Pass  23: suminf.    0.87118 (6) obj. -14087.1 iterations 413\n",
      "Cbc0038I Pass  24: suminf.    1.18410 (6) obj. -14087.1 iterations 87\n",
      "Cbc0038I Pass  25: suminf.    1.01526 (5) obj. -14087.1 iterations 70\n",
      "Cbc0038I Pass  26: suminf.    1.46667 (5) obj. -14091.8 iterations 491\n",
      "Cbc0038I Pass  27: suminf.    1.06602 (5) obj. -14087.1 iterations 356\n",
      "Cbc0038I Pass  28: suminf.    1.07433 (5) obj. -14087.1 iterations 84\n",
      "Cbc0038I Pass  29: suminf.    1.05797 (5) obj. -14087.1 iterations 66\n",
      "Cbc0038I Pass  30: suminf.    3.23584 (12) obj. -14087.1 iterations 431\n",
      "Cbc0038I Pass  31: suminf.    1.44619 (4) obj. -14087.1 iterations 283\n",
      "Cbc0038I Pass  32: suminf.    1.46667 (3) obj. -14089.4 iterations 591\n",
      "Cbc0038I No solution found this major pass\n",
      "Cbc0038I Before mini branch and bound, 7780 integers at bound fixed and 0 continuous\n",
      "Cbc0038I Full problem 2272 rows 7924 columns, reduced to 19 rows 71 columns\n",
      "Cbc0038I Mini branch and bound improved solution from -14082.6 to -14123.9 (0.62 seconds)\n",
      "Cbc0038I Round again with cutoff of -14124.7\n",
      "Cbc0038I Reduced cost fixing fixed 4219 variables on major pass 3\n",
      "Cbc0038I Pass  32: suminf.    1.46395 (7) obj. -14124.7 iterations 79\n",
      "Cbc0038I Pass  33: suminf.    1.22946 (4) obj. -14124.7 iterations 549\n",
      "Cbc0038I Pass  34: suminf.    1.06667 (3) obj. -14126.7 iterations 88\n",
      "Cbc0038I Pass  35: suminf.    1.27694 (3) obj. -14124.7 iterations 361\n",
      "Cbc0038I Pass  36: suminf.    1.06667 (3) obj. -14126.7 iterations 420\n",
      "Cbc0038I Pass  37: suminf.    3.11953 (10) obj. -14124.7 iterations 422\n",
      "Cbc0038I Pass  38: suminf.    2.42232 (9) obj. -14124.7 iterations 458\n",
      "Cbc0038I Pass  39: suminf.    4.51606 (12) obj. -14124.7 iterations 635\n",
      "Cbc0038I Pass  40: suminf.    2.42232 (8) obj. -14124.7 iterations 535\n",
      "Cbc0038I Pass  41: suminf.    2.42232 (8) obj. -14124.7 iterations 10\n",
      "Cbc0038I Pass  42: suminf.    3.90672 (10) obj. -14124.7 iterations 624\n",
      "Cbc0038I Pass  43: suminf.    2.38912 (9) obj. -14124.7 iterations 566\n",
      "Cbc0038I Pass  44: suminf.    2.38912 (9) obj. -14124.7 iterations 10\n",
      "Cbc0038I Pass  45: suminf.    3.70283 (11) obj. -14124.7 iterations 598\n",
      "Cbc0038I Pass  46: suminf.    2.38912 (9) obj. -14124.7 iterations 601\n",
      "Cbc0038I Pass  47: suminf.    2.38912 (9) obj. -14124.7 iterations 153\n",
      "Cbc0038I Pass  48: suminf.    2.38912 (9) obj. -14124.7 iterations 186\n",
      "Cbc0038I Pass  49: suminf.    2.57356 (9) obj. -14124.7 iterations 518\n",
      "Cbc0038I Pass  50: suminf.    1.51525 (7) obj. -14124.7 iterations 327\n",
      "Cbc0038I Pass  51: suminf.    1.51525 (7) obj. -14124.7 iterations 10\n",
      "Cbc0038I Pass  52: suminf.    2.15828 (8) obj. -14124.7 iterations 467\n",
      "Cbc0038I Pass  53: suminf.    1.51525 (7) obj. -14124.7 iterations 481\n",
      "Cbc0038I Pass  54: suminf.    1.51525 (7) obj. -14124.7 iterations 10\n",
      "Cbc0038I Pass  55: suminf.    2.47439 (12) obj. -14124.7 iterations 459\n",
      "Cbc0038I Pass  56: suminf.    1.57517 (7) obj. -14124.7 iterations 516\n",
      "Cbc0038I Pass  57: suminf.    2.10299 (8) obj. -14124.7 iterations 509\n",
      "Cbc0038I Pass  58: suminf.    1.57517 (7) obj. -14124.7 iterations 495\n",
      "Cbc0038I Pass  59: suminf.    3.09159 (9) obj. -14124.7 iterations 503\n",
      "Cbc0038I Pass  60: suminf.    2.53344 (10) obj. -14124.7 iterations 259\n",
      "Cbc0038I Pass  61: suminf.    2.53344 (10) obj. -14124.7 iterations 8\n",
      "Cbc0038I No solution found this major pass\n",
      "Cbc0038I Before mini branch and bound, 7785 integers at bound fixed and 0 continuous\n",
      "Cbc0038I Full problem 2272 rows 7924 columns, reduced to 22 rows 74 columns\n",
      "Cbc0038I Mini branch and bound did not improve solution (1.06 seconds)\n",
      "Cbc0038I After 1.06 seconds - Feasibility pump exiting with objective of -14123.9 - took 0.81 seconds\n",
      "Cbc0012I Integer solution of -14123.915 found by feasibility pump after 0 iterations and 0 nodes (1.06 seconds)\n",
      "Cbc0038I Full problem 2272 rows 7924 columns, reduced to 6 rows 13 columns\n",
      "Cbc0031I 2 added rows had average density of 2264\n",
      "Cbc0013I At root node, 2 cuts changed objective from -14127.726 to -14127.674 in 3 passes\n",
      "Cbc0014I Cut generator 0 (Probing) - 0 row cuts average 0.0 elements, 0 column cuts (0 active)  in 0.003 seconds - new frequency is -100\n",
      "Cbc0014I Cut generator 1 (Gomory) - 0 row cuts average 0.0 elements, 0 column cuts (0 active)  in 0.003 seconds - new frequency is -100\n",
      "Cbc0014I Cut generator 2 (Knapsack) - 0 row cuts average 0.0 elements, 0 column cuts (0 active)  in 0.007 seconds - new frequency is -100\n",
      "Cbc0014I Cut generator 3 (Clique) - 0 row cuts average 0.0 elements, 0 column cuts (0 active)  in 0.000 seconds - new frequency is -100\n",
      "Cbc0014I Cut generator 4 (MixedIntegerRounding2) - 3 row cuts average 2264.0 elements, 0 column cuts (0 active)  in 0.003 seconds - new frequency is 1\n",
      "Cbc0014I Cut generator 5 (FlowCover) - 0 row cuts average 0.0 elements, 0 column cuts (0 active)  in 0.000 seconds - new frequency is -100\n",
      "Cbc0010I After 0 nodes, 1 on tree, -14123.915 best solution, best possible -14127.674 (1.11 seconds)\n",
      "Cbc0038I Full problem 2272 rows 7924 columns, reduced to 10 rows 25 columns\n",
      "Cbc0038I Full problem 2274 rows 7924 columns, reduced to 315 rows 1527 columns\n",
      "Cbc0044I Reduced cost fixing - 315 rows, 1527 columns - restarting search\n",
      "Cbc0012I Integer solution of -14123.915 found by Previous solution after 0 iterations and 0 nodes (1.40 seconds)\n",
      "Cbc0038I Full problem 315 rows 1527 columns, reduced to 7 rows 15 columns\n",
      "Cbc0031I 4 added rows had average density of 111.5\n",
      "Cbc0013I At root node, 4 cuts changed objective from -14127.726 to -14125.592 in 11 passes\n",
      "Cbc0014I Cut generator 0 (Probing) - 0 row cuts average 0.0 elements, 0 column cuts (0 active)  in 0.007 seconds - new frequency is -100\n",
      "Cbc0014I Cut generator 1 (Gomory) - 4 row cuts average 468.2 elements, 0 column cuts (0 active)  in 0.010 seconds - new frequency is -100\n",
      "Cbc0014I Cut generator 2 (Knapsack) - 0 row cuts average 0.0 elements, 0 column cuts (0 active)  in 0.007 seconds - new frequency is -100\n",
      "Cbc0014I Cut generator 3 (Clique) - 0 row cuts average 0.0 elements, 0 column cuts (0 active)  in 0.000 seconds - new frequency is -100\n",
      "Cbc0014I Cut generator 4 (MixedIntegerRounding2) - 15 row cuts average 249.5 elements, 0 column cuts (0 active)  in 0.004 seconds - new frequency is 1\n",
      "Cbc0014I Cut generator 5 (FlowCover) - 0 row cuts average 0.0 elements, 0 column cuts (0 active)  in 0.000 seconds - new frequency is -100\n",
      "Cbc0014I Cut generator 6 (TwoMirCuts) - 22 row cuts average 248.3 elements, 0 column cuts (0 active)  in 0.006 seconds - new frequency is -100\n",
      "Cbc0014I Cut generator 7 (ZeroHalf) - 1 row cuts average 67.0 elements, 0 column cuts (0 active)  in 0.036 seconds - new frequency is -100\n",
      "Cbc0014I Cut generator 9 (Stored from first) - 4 row cuts average 262.0 elements, 0 column cuts (0 active)\n",
      "Cbc0010I After 0 nodes, 1 on tree, -14123.915 best solution, best possible -14125.592 (1.51 seconds)\n",
      "Cbc0012I Integer solution of -14124.895 found by DiveCoefficient after 135 iterations and 3 nodes (1.54 seconds)\n",
      "Cbc0001I Search completed - best objective -14124.89543, took 380 iterations and 30 nodes (1.73 seconds)\n",
      "Cbc0032I Strong branching done 486 times (1573 iterations), fathomed 8 nodes and fixed 20 variables\n",
      "Cbc0035I Maximum depth 7, 727 variables fixed on reduced cost\n",
      "Cbc0038I Probing was tried 11 times and created 0 cuts of which 0 were active after adding rounds of cuts (0.007 seconds)\n",
      "Cbc0038I Gomory was tried 11 times and created 4 cuts of which 0 were active after adding rounds of cuts (0.010 seconds)\n",
      "Cbc0038I Knapsack was tried 11 times and created 0 cuts of which 0 were active after adding rounds of cuts (0.007 seconds)\n",
      "Cbc0038I Clique was tried 11 times and created 0 cuts of which 0 were active after adding rounds of cuts (0.000 seconds)\n",
      "Cbc0038I MixedIntegerRounding2 was tried 38 times and created 45 cuts of which 0 were active after adding rounds of cuts (0.008 seconds)\n",
      "Cbc0038I FlowCover was tried 11 times and created 0 cuts of which 0 were active after adding rounds of cuts (0.000 seconds)\n",
      "Cbc0038I TwoMirCuts was tried 11 times and created 22 cuts of which 0 were active after adding rounds of cuts (0.006 seconds)\n",
      "Cbc0038I ZeroHalf was tried 11 times and created 1 cuts of which 0 were active after adding rounds of cuts (0.036 seconds)\n",
      "Cbc0038I Stored from first was tried 38 times and created 7 cuts of which 0 were active after adding rounds of cuts (0.000 seconds)\n",
      "Cbc0012I Integer solution of -14124.895 found by Reduced search after 925 iterations and 80 nodes (1.73 seconds)\n",
      "Cbc0001I Search completed - best objective -14124.89543, took 925 iterations and 80 nodes (1.73 seconds)\n",
      "Cbc0032I Strong branching done 620 times (3246 iterations), fathomed 8 nodes and fixed 10 variables\n",
      "Cbc0035I Maximum depth 20, 6287 variables fixed on reduced cost\n",
      "Cuts at root node changed objective from -14127.7 to -14127.7\n",
      "Probing was tried 3 times and created 0 cuts of which 0 were active after adding rounds of cuts (0.003 seconds)\n",
      "Gomory was tried 3 times and created 0 cuts of which 0 were active after adding rounds of cuts (0.003 seconds)\n",
      "Knapsack was tried 3 times and created 0 cuts of which 0 were active after adding rounds of cuts (0.007 seconds)\n",
      "Clique was tried 3 times and created 0 cuts of which 0 were active after adding rounds of cuts (0.000 seconds)\n",
      "MixedIntegerRounding2 was tried 16 times and created 5 cuts of which 0 were active after adding rounds of cuts (0.012 seconds)\n",
      "FlowCover was tried 3 times and created 0 cuts of which 0 were active after adding rounds of cuts (0.000 seconds)\n",
      "TwoMirCuts was tried 1 times and created 0 cuts of which 0 were active after adding rounds of cuts (0.001 seconds)\n",
      "ZeroHalf was tried 1 times and created 0 cuts of which 0 were active after adding rounds of cuts (0.003 seconds)\n",
      "\n",
      "Result - Optimal solution found\n",
      "\n",
      "Objective value:                14124.89543000\n",
      "Enumerated nodes:               80\n",
      "Total iterations:               925\n",
      "Time (CPU seconds):             1.64\n",
      "Time (Wallclock seconds):       1.74\n",
      "\n",
      "Option for printingOptions changed from normal to all\n",
      "Total time (CPU seconds):       1.67   (Wallclock seconds):       1.77\n"
     ]
    }
   ],
   "source": [
    "lambda_c = {'Utilities': 0.3, 'Shopping': 0.3, 'Holiday': 0.1}\n",
    "lambda_d = {'Sport event tickets': 0.05, 'Facebook Marketplace Upfront payment': 0.05, 'Clothes Online additional posting payment': 0.05}\n",
    "daily_budget = 10000\n",
    "\n",
    "days = list(transactions['date'].unique())\n",
    "df1 = transactions[transactions['date'] == days[1]]\n",
    "\n",
    "x_ids, y_ids, obj_value = solve_initial_model(df1, lambda_c, lambda_d, daily_budget)"
   ],
   "metadata": {
    "collapsed": false,
    "ExecuteTime": {
     "end_time": "2023-11-21T15:58:53.347376Z",
     "start_time": "2023-11-21T15:58:51.300369Z"
    }
   },
   "id": "3551e8b9903856fe"
  },
  {
   "cell_type": "code",
   "execution_count": 103,
   "outputs": [],
   "source": [
    "def compute_real_value_saved(x_ids, y_ids, transactions_df, fraud_df):\n",
    "    # Create a set of fraudulent transaction IDs for quick lookup\n",
    "    fraudulent_transactions = set(fraud_df['transaction_id'])\n",
    "\n",
    "    external_investigator_cost = {1: 40, 2: 60, 3: 100, 4: 150}\n",
    "\n",
    "    C = transactions_df['priority'].map(external_investigator_cost)\n",
    "\n",
    "    # Initialize the total value saved\n",
    "    total_value_saved = 0\n",
    "\n",
    "    # Calculate the value saved for each transaction identified by the model\n",
    "    for i in x_ids + y_ids:\n",
    "        if i in fraudulent_transactions:\n",
    "            V_i = transactions_df.at[i, 'amount']  # Value of the transaction\n",
    "            f_i = 1  # Transaction is fraudulent\n",
    "            y_i = 1 if i in y_ids else 0  # 1 if investigated externally, 0 otherwise\n",
    "\n",
    "            # Calculate the value saved for this transaction\n",
    "            total_value_saved += V_i * f_i - C[i] * y_i\n",
    "\n",
    "    return total_value_saved"
   ],
   "metadata": {
    "collapsed": false,
    "ExecuteTime": {
     "end_time": "2023-11-21T15:58:55.698724Z",
     "start_time": "2023-11-21T15:58:55.696710Z"
    }
   },
   "id": "f07a97b72506c001"
  },
  {
   "cell_type": "code",
   "execution_count": 104,
   "outputs": [],
   "source": [
    "# Example usage:\n",
    "real_value_saved = compute_real_value_saved(x_ids, y_ids, df1, frauds)"
   ],
   "metadata": {
    "collapsed": false,
    "ExecuteTime": {
     "end_time": "2023-11-21T15:58:57.026083Z",
     "start_time": "2023-11-21T15:58:57.023235Z"
    }
   },
   "id": "b1684dc117ffe79c"
  },
  {
   "cell_type": "code",
   "execution_count": 105,
   "outputs": [
    {
     "data": {
      "text/plain": "193.95"
     },
     "execution_count": 105,
     "metadata": {},
     "output_type": "execute_result"
    }
   ],
   "source": [
    "real_value_saved"
   ],
   "metadata": {
    "collapsed": false,
    "ExecuteTime": {
     "end_time": "2023-11-21T15:58:57.691096Z",
     "start_time": "2023-11-21T15:58:57.687512Z"
    }
   },
   "id": "9b88a91bd9695897"
  },
  {
   "cell_type": "code",
   "execution_count": 111,
   "outputs": [],
   "source": [
    "def solve_second_model(df, fraud_df, daily_budget):\n",
    "    \n",
    "    fraudulent_transactions = set(fraud_df['transaction_id']) \n",
    "    # Define the cost for external investigators based on priority\n",
    "    external_investigator_cost = {1: 40, 2: 60, 3: 100, 4: 150}\n",
    "    # Define the time (in days) it takes to investigate a transaction based on priority\n",
    "    time_needed = {1: 0.25, 2: 0.5, 3: 1, 4: 2}\n",
    "\n",
    "    # Create parameters based on the DataFrame indexed by transaction_id\n",
    "    V = df['amount']\n",
    "    P = 0.5 * df['customer_prob'] + 0.3 * df['description_prob'] + 0.2 * df['transac_prob']\n",
    "    C = df['priority'].map(external_investigator_cost)\n",
    "    t = df['priority'].map(time_needed)\n",
    "\n",
    "    # Bank capacity\n",
    "    T_bank = {'bank_a': 8, 'bank_b': 12, 'bank_c': 10, 'bank_d': 10, 'bank_e': 10}\n",
    "\n",
    "    # Define the model\n",
    "    model = LpProblem(\"Fraud_Investigation\", LpMaximize)\n",
    "\n",
    "    # Decision variables\n",
    "    x = LpVariable.dicts(\"x\", df.index, cat='Binary')\n",
    "    y = LpVariable.dicts(\"y\", df.index, cat='Binary')\n",
    "    z = LpVariable.dicts(\"z\", [(b, i) for b in T_bank.keys() for i in df.index], cat='Binary')\n",
    "\n",
    "    # Objective function\n",
    "    model += lpSum([df.at[i, 'amount'] * (x[i] + y[i]) - df.at[i, 'priority'] * C[i] * y[i]\n",
    "                    for i in df.index if i in fraudulent_transactions])\n",
    "\n",
    "    # Constraints\n",
    "    # 1. Investigation Exclusivity Constraint\n",
    "    for i in df.index:\n",
    "        model += x[i] + y[i] <= 1\n",
    "\n",
    "    # 2. Bank Capacity Constraints for Internal Investigation\n",
    "    for b in T_bank:\n",
    "        model += lpSum([t[i] * z[(b, i)] for i in df.index]) <= T_bank[b]\n",
    "\n",
    "    # 3. Bank Investigation Assignment Constraint\n",
    "    for i in df.index:\n",
    "        model += lpSum([z[(b, i)] for b in T_bank]) == x[i]\n",
    "\n",
    "    # 4. Budget Constraint for External Investigation\n",
    "    model += lpSum([y[i] * C[i] for i in df.index]) <= daily_budget\n",
    "\n",
    "    # Solve the model\n",
    "    model.solve()\n",
    "\n",
    "    # Extract results\n",
    "    x_result = [i for i in df.index if x[i].varValue == 1]\n",
    "    y_result = [i for i in df.index if y[i].varValue == 1]\n",
    "\n",
    "    # Get the value of the objective function\n",
    "    objective_value = value(model.objective)\n",
    "\n",
    "    return x_result, y_result, objective_value"
   ],
   "metadata": {
    "collapsed": false,
    "ExecuteTime": {
     "end_time": "2023-11-21T15:59:56.011566Z",
     "start_time": "2023-11-21T15:59:56.007938Z"
    }
   },
   "id": "57cd4785413da3f"
  },
  {
   "cell_type": "code",
   "execution_count": 112,
   "outputs": [
    {
     "name": "stdout",
     "output_type": "stream",
     "text": [
      "Welcome to the CBC MILP Solver \n",
      "Version: 2.10.3 \n",
      "Build Date: Dec 15 2019 \n",
      "\n",
      "command line - /Users/uzaykaradag/.pyenv/versions/3.12.0/lib/python3.12/site-packages/pulp/solverdir/cbc/osx/64/cbc /var/folders/_g/3jdpr0d14q1g62hkp6vf5mlh0000gn/T/983d11a0299a4a9f85f8fb0acb95354c-pulp.mps max timeMode elapsed branch printingOptions all solution /var/folders/_g/3jdpr0d14q1g62hkp6vf5mlh0000gn/T/983d11a0299a4a9f85f8fb0acb95354c-pulp.sol (default strategy 1)\n",
      "At line 2 NAME          MODEL\n",
      "At line 3 ROWS\n",
      "At line 2275 COLUMNS\n",
      "At line 33984 RHS\n",
      "At line 36255 BOUNDS\n",
      "At line 44180 ENDATA\n",
      "Problem MODEL has 2270 rows, 7924 columns and 15848 elements\n",
      "Coin0008I MODEL read with 0 errors\n",
      "Option for timeMode changed from cpu to elapsed\n",
      "Continuous objective value is 360.95 - 0.01 seconds\n",
      "Cgl0004I processed model has 1137 rows, 5666 columns (5666 integer (5666 of which binary)) and 11326 elements\n",
      "Cutoff increment increased from 1e-05 to 0.04995\n",
      "Cbc0038I Initial state - 0 integers unsatisfied sum - 2.22045e-16\n",
      "Cbc0038I Solution found of -360.95\n",
      "Cbc0038I Before mini branch and bound, 5666 integers at bound fixed and 0 continuous\n",
      "Cbc0038I Mini branch and bound did not improve solution (0.06 seconds)\n",
      "Cbc0038I After 0.06 seconds - Feasibility pump exiting with objective of -360.95 - took 0.00 seconds\n",
      "Cbc0012I Integer solution of -360.95 found by feasibility pump after 0 iterations and 0 nodes (0.06 seconds)\n",
      "Cbc0001I Search completed - best objective -360.95, took 0 iterations and 0 nodes (0.06 seconds)\n",
      "Cbc0035I Maximum depth 0, 0 variables fixed on reduced cost\n",
      "Cuts at root node changed objective from -360.95 to -360.95\n",
      "Probing was tried 0 times and created 0 cuts of which 0 were active after adding rounds of cuts (0.000 seconds)\n",
      "Gomory was tried 0 times and created 0 cuts of which 0 were active after adding rounds of cuts (0.000 seconds)\n",
      "Knapsack was tried 0 times and created 0 cuts of which 0 were active after adding rounds of cuts (0.000 seconds)\n",
      "Clique was tried 0 times and created 0 cuts of which 0 were active after adding rounds of cuts (0.000 seconds)\n",
      "MixedIntegerRounding2 was tried 0 times and created 0 cuts of which 0 were active after adding rounds of cuts (0.000 seconds)\n",
      "FlowCover was tried 0 times and created 0 cuts of which 0 were active after adding rounds of cuts (0.000 seconds)\n",
      "TwoMirCuts was tried 0 times and created 0 cuts of which 0 were active after adding rounds of cuts (0.000 seconds)\n",
      "ZeroHalf was tried 0 times and created 0 cuts of which 0 were active after adding rounds of cuts (0.000 seconds)\n",
      "\n",
      "Result - Optimal solution found\n",
      "\n",
      "Objective value:                360.95000000\n",
      "Enumerated nodes:               0\n",
      "Total iterations:               0\n",
      "Time (CPU seconds):             0.06\n",
      "Time (Wallclock seconds):       0.07\n",
      "\n",
      "Option for printingOptions changed from normal to all\n",
      "Total time (CPU seconds):       0.08   (Wallclock seconds):       0.09\n"
     ]
    }
   ],
   "source": [
    "x_ids, y_ids, max_value_save = solve_second_model(df1, frauds, daily_budget)"
   ],
   "metadata": {
    "collapsed": false,
    "ExecuteTime": {
     "end_time": "2023-11-21T15:59:56.588284Z",
     "start_time": "2023-11-21T15:59:56.334291Z"
    }
   },
   "id": "5e42f7419e30452a"
  },
  {
   "cell_type": "code",
   "execution_count": 113,
   "outputs": [
    {
     "data": {
      "text/plain": "167.00000000000006"
     },
     "execution_count": 113,
     "metadata": {},
     "output_type": "execute_result"
    }
   ],
   "source": [
    "obj_value - real_value_saved"
   ],
   "metadata": {
    "collapsed": false,
    "ExecuteTime": {
     "end_time": "2023-11-21T16:00:11.183766Z",
     "start_time": "2023-11-21T16:00:11.169534Z"
    }
   },
   "id": "bd5656a9fda6506d"
  },
  {
   "cell_type": "code",
   "execution_count": 117,
   "outputs": [
    {
     "data": {
      "text/plain": "transaction_id\n3350     70.00\n2869     70.00\n2871     40.75\n2868     75.25\n2875     55.25\n         ...  \n3652    249.99\n3663     55.00\n3664     85.50\n3246    120.30\n3307     45.00\nName: amount, Length: 1132, dtype: float64"
     },
     "execution_count": 117,
     "metadata": {},
     "output_type": "execute_result"
    }
   ],
   "source": [
    "df1['amount']"
   ],
   "metadata": {
    "collapsed": false,
    "ExecuteTime": {
     "end_time": "2023-11-21T16:08:44.085179Z",
     "start_time": "2023-11-21T16:08:44.071393Z"
    }
   },
   "id": "4b7904b6cd51ffaa"
  },
  {
   "cell_type": "code",
   "execution_count": null,
   "outputs": [],
   "source": [],
   "metadata": {
    "collapsed": false
   },
   "id": "783dd75ec10afef2"
  }
 ],
 "metadata": {
  "kernelspec": {
   "display_name": "Python 3",
   "language": "python",
   "name": "python3"
  },
  "language_info": {
   "codemirror_mode": {
    "name": "ipython",
    "version": 2
   },
   "file_extension": ".py",
   "mimetype": "text/x-python",
   "name": "python",
   "nbconvert_exporter": "python",
   "pygments_lexer": "ipython2",
   "version": "2.7.6"
  }
 },
 "nbformat": 4,
 "nbformat_minor": 5
}
