{
 "cells": [
  {
   "cell_type": "code",
   "execution_count": 7,
   "id": "164c668d392e9068",
   "metadata": {
    "collapsed": true,
    "ExecuteTime": {
     "end_time": "2023-11-06T13:17:20.861525Z",
     "start_time": "2023-11-06T13:17:03.387552Z"
    }
   },
   "outputs": [],
   "source": [
    "import pandas as pd\n",
    "\n",
    "# Load the data from each spreadsheet\n",
    "cb = pd.read_excel(\"data/231013_Customer_Base.xlsx\")\n",
    "ti = pd.read_excel(\"data/231013_Transactions_Input.xlsx\")\n",
    "fc = pd.read_excel(\"data/231013_Fraud_Cases.xlsx\")"
   ]
  },
  {
   "cell_type": "code",
   "execution_count": 8,
   "outputs": [
    {
     "data": {
      "text/plain": "   customer_id home_bank  customer_prob\n0        10298    bank_E           0.49\n1        14507    bank_E           0.35\n2        14558    bank_E           0.45\n3        13453    bank_E           0.63\n4        19629    bank_D           0.79",
      "text/html": "<div>\n<style scoped>\n    .dataframe tbody tr th:only-of-type {\n        vertical-align: middle;\n    }\n\n    .dataframe tbody tr th {\n        vertical-align: top;\n    }\n\n    .dataframe thead th {\n        text-align: right;\n    }\n</style>\n<table border=\"1\" class=\"dataframe\">\n  <thead>\n    <tr style=\"text-align: right;\">\n      <th></th>\n      <th>customer_id</th>\n      <th>home_bank</th>\n      <th>customer_prob</th>\n    </tr>\n  </thead>\n  <tbody>\n    <tr>\n      <th>0</th>\n      <td>10298</td>\n      <td>bank_E</td>\n      <td>0.49</td>\n    </tr>\n    <tr>\n      <th>1</th>\n      <td>14507</td>\n      <td>bank_E</td>\n      <td>0.35</td>\n    </tr>\n    <tr>\n      <th>2</th>\n      <td>14558</td>\n      <td>bank_E</td>\n      <td>0.45</td>\n    </tr>\n    <tr>\n      <th>3</th>\n      <td>13453</td>\n      <td>bank_E</td>\n      <td>0.63</td>\n    </tr>\n    <tr>\n      <th>4</th>\n      <td>19629</td>\n      <td>bank_D</td>\n      <td>0.79</td>\n    </tr>\n  </tbody>\n</table>\n</div>"
     },
     "execution_count": 8,
     "metadata": {},
     "output_type": "execute_result"
    }
   ],
   "source": [
    "cb.head()"
   ],
   "metadata": {
    "collapsed": false,
    "ExecuteTime": {
     "end_time": "2023-11-06T13:17:40.033824Z",
     "start_time": "2023-11-06T13:17:40.028057Z"
    }
   },
   "id": "initial_id"
  },
  {
   "cell_type": "code",
   "execution_count": 9,
   "outputs": [
    {
     "data": {
      "text/plain": "   transaction_id                             description       Amount  \\\n0               1        Salary Deposit - XYZ Corporation  11474.33021   \n1               2  Online Retailer - Electronics Purchase    199.99000   \n2               3    Utilities Payment - Internet Service     60.00000   \n3               4                            Rent Payment   1500.00000   \n4               5         Paycheck Deposit - Company Name  10480.68449   \n\n          category       date    month  customer_id      type In_or_Out  \\\n0           Income 2023-10-01  October        17699    income   paid_in   \n1  Online Shopping 2023-10-01  October        10298  spending  paid_out   \n2        Utilities 2023-10-01  October        10298  spending  paid_out   \n3          Housing 2023-10-01  October        14507  spending  paid_out   \n4           Income 2023-10-01  October        14507    income   paid_in   \n\n  bank_to bank_from  transac_prob  description_prob  priority  \n0  bank_A    bank_A           NaN               NaN         3  \n1  bank_A    bank_E          0.78              0.25         3  \n2  bank_C    bank_E          0.30              0.22         1  \n3  bank_D    bank_E          0.57              0.53         3  \n4  bank_E    bank_D           NaN               NaN         3  ",
      "text/html": "<div>\n<style scoped>\n    .dataframe tbody tr th:only-of-type {\n        vertical-align: middle;\n    }\n\n    .dataframe tbody tr th {\n        vertical-align: top;\n    }\n\n    .dataframe thead th {\n        text-align: right;\n    }\n</style>\n<table border=\"1\" class=\"dataframe\">\n  <thead>\n    <tr style=\"text-align: right;\">\n      <th></th>\n      <th>transaction_id</th>\n      <th>description</th>\n      <th>Amount</th>\n      <th>category</th>\n      <th>date</th>\n      <th>month</th>\n      <th>customer_id</th>\n      <th>type</th>\n      <th>In_or_Out</th>\n      <th>bank_to</th>\n      <th>bank_from</th>\n      <th>transac_prob</th>\n      <th>description_prob</th>\n      <th>priority</th>\n    </tr>\n  </thead>\n  <tbody>\n    <tr>\n      <th>0</th>\n      <td>1</td>\n      <td>Salary Deposit - XYZ Corporation</td>\n      <td>11474.33021</td>\n      <td>Income</td>\n      <td>2023-10-01</td>\n      <td>October</td>\n      <td>17699</td>\n      <td>income</td>\n      <td>paid_in</td>\n      <td>bank_A</td>\n      <td>bank_A</td>\n      <td>NaN</td>\n      <td>NaN</td>\n      <td>3</td>\n    </tr>\n    <tr>\n      <th>1</th>\n      <td>2</td>\n      <td>Online Retailer - Electronics Purchase</td>\n      <td>199.99000</td>\n      <td>Online Shopping</td>\n      <td>2023-10-01</td>\n      <td>October</td>\n      <td>10298</td>\n      <td>spending</td>\n      <td>paid_out</td>\n      <td>bank_A</td>\n      <td>bank_E</td>\n      <td>0.78</td>\n      <td>0.25</td>\n      <td>3</td>\n    </tr>\n    <tr>\n      <th>2</th>\n      <td>3</td>\n      <td>Utilities Payment - Internet Service</td>\n      <td>60.00000</td>\n      <td>Utilities</td>\n      <td>2023-10-01</td>\n      <td>October</td>\n      <td>10298</td>\n      <td>spending</td>\n      <td>paid_out</td>\n      <td>bank_C</td>\n      <td>bank_E</td>\n      <td>0.30</td>\n      <td>0.22</td>\n      <td>1</td>\n    </tr>\n    <tr>\n      <th>3</th>\n      <td>4</td>\n      <td>Rent Payment</td>\n      <td>1500.00000</td>\n      <td>Housing</td>\n      <td>2023-10-01</td>\n      <td>October</td>\n      <td>14507</td>\n      <td>spending</td>\n      <td>paid_out</td>\n      <td>bank_D</td>\n      <td>bank_E</td>\n      <td>0.57</td>\n      <td>0.53</td>\n      <td>3</td>\n    </tr>\n    <tr>\n      <th>4</th>\n      <td>5</td>\n      <td>Paycheck Deposit - Company Name</td>\n      <td>10480.68449</td>\n      <td>Income</td>\n      <td>2023-10-01</td>\n      <td>October</td>\n      <td>14507</td>\n      <td>income</td>\n      <td>paid_in</td>\n      <td>bank_E</td>\n      <td>bank_D</td>\n      <td>NaN</td>\n      <td>NaN</td>\n      <td>3</td>\n    </tr>\n  </tbody>\n</table>\n</div>"
     },
     "execution_count": 9,
     "metadata": {},
     "output_type": "execute_result"
    }
   ],
   "source": [
    "ti.head()"
   ],
   "metadata": {
    "collapsed": false,
    "ExecuteTime": {
     "end_time": "2023-11-06T13:17:44.874651Z",
     "start_time": "2023-11-06T13:17:44.869614Z"
    }
   },
   "id": "1499d0aef8216b43"
  },
  {
   "cell_type": "code",
   "execution_count": 10,
   "outputs": [
    {
     "data": {
      "text/plain": "   transaction_id  is_scam_transaction     fraud_type  case_id\n0             187                    1     AdvanceFee  5415844\n1             247                    1  Impersonation  4280670\n2             818                    1  Impersonation  6956462\n3             891                    1       Purchase  2702984\n4            1142                    1       Purchase  3493741",
      "text/html": "<div>\n<style scoped>\n    .dataframe tbody tr th:only-of-type {\n        vertical-align: middle;\n    }\n\n    .dataframe tbody tr th {\n        vertical-align: top;\n    }\n\n    .dataframe thead th {\n        text-align: right;\n    }\n</style>\n<table border=\"1\" class=\"dataframe\">\n  <thead>\n    <tr style=\"text-align: right;\">\n      <th></th>\n      <th>transaction_id</th>\n      <th>is_scam_transaction</th>\n      <th>fraud_type</th>\n      <th>case_id</th>\n    </tr>\n  </thead>\n  <tbody>\n    <tr>\n      <th>0</th>\n      <td>187</td>\n      <td>1</td>\n      <td>AdvanceFee</td>\n      <td>5415844</td>\n    </tr>\n    <tr>\n      <th>1</th>\n      <td>247</td>\n      <td>1</td>\n      <td>Impersonation</td>\n      <td>4280670</td>\n    </tr>\n    <tr>\n      <th>2</th>\n      <td>818</td>\n      <td>1</td>\n      <td>Impersonation</td>\n      <td>6956462</td>\n    </tr>\n    <tr>\n      <th>3</th>\n      <td>891</td>\n      <td>1</td>\n      <td>Purchase</td>\n      <td>2702984</td>\n    </tr>\n    <tr>\n      <th>4</th>\n      <td>1142</td>\n      <td>1</td>\n      <td>Purchase</td>\n      <td>3493741</td>\n    </tr>\n  </tbody>\n</table>\n</div>"
     },
     "execution_count": 10,
     "metadata": {},
     "output_type": "execute_result"
    }
   ],
   "source": [
    "fc.head()"
   ],
   "metadata": {
    "collapsed": false,
    "ExecuteTime": {
     "end_time": "2023-11-06T13:18:08.904131Z",
     "start_time": "2023-11-06T13:18:08.888863Z"
    }
   },
   "id": "fc3328e56068a67e"
  },
  {
   "cell_type": "code",
   "execution_count": 11,
   "outputs": [],
   "source": [
    "transactions = pd.merge(cb, ti, on='customer_id', how='inner')"
   ],
   "metadata": {
    "collapsed": false,
    "ExecuteTime": {
     "end_time": "2023-11-06T13:21:00.129216Z",
     "start_time": "2023-11-06T13:21:00.057234Z"
    }
   },
   "id": "8b14c0c90ad77684"
  },
  {
   "cell_type": "code",
   "execution_count": 12,
   "outputs": [
    {
     "data": {
      "text/plain": "   customer_id home_bank  customer_prob  transaction_id  \\\n0        10298    bank_E           0.49               2   \n1        10298    bank_E           0.49               3   \n2        10298    bank_E           0.49              16   \n3        10298    bank_E           0.49              33   \n4        10298    bank_E           0.49            2869   \n\n                              description      Amount         category  \\\n0  Online Retailer - Electronics Purchase    199.9900  Online Shopping   \n1    Utilities Payment - Internet Service     60.0000        Utilities   \n2            Paycheck Deposit - ABC Corp.  10427.6474           Income   \n3                            Rent Payment   1200.0000          Housing   \n4  Phone Bill Payment - Wireless Provider     70.0000        Utilities   \n\n        date    month      type In_or_Out bank_to bank_from  transac_prob  \\\n0 2023-10-01  October  spending  paid_out  bank_A    bank_E          0.78   \n1 2023-10-01  October  spending  paid_out  bank_C    bank_E          0.30   \n2 2023-10-01  October    income   paid_in  bank_E    bank_E           NaN   \n3 2023-10-01  October  spending  paid_out  bank_E    bank_E          0.65   \n4 2023-10-02  October  spending  paid_out  bank_A    bank_E          0.48   \n\n   description_prob  priority  \n0              0.25         3  \n1              0.22         1  \n2               NaN         3  \n3              0.62         3  \n4              0.34         1  ",
      "text/html": "<div>\n<style scoped>\n    .dataframe tbody tr th:only-of-type {\n        vertical-align: middle;\n    }\n\n    .dataframe tbody tr th {\n        vertical-align: top;\n    }\n\n    .dataframe thead th {\n        text-align: right;\n    }\n</style>\n<table border=\"1\" class=\"dataframe\">\n  <thead>\n    <tr style=\"text-align: right;\">\n      <th></th>\n      <th>customer_id</th>\n      <th>home_bank</th>\n      <th>customer_prob</th>\n      <th>transaction_id</th>\n      <th>description</th>\n      <th>Amount</th>\n      <th>category</th>\n      <th>date</th>\n      <th>month</th>\n      <th>type</th>\n      <th>In_or_Out</th>\n      <th>bank_to</th>\n      <th>bank_from</th>\n      <th>transac_prob</th>\n      <th>description_prob</th>\n      <th>priority</th>\n    </tr>\n  </thead>\n  <tbody>\n    <tr>\n      <th>0</th>\n      <td>10298</td>\n      <td>bank_E</td>\n      <td>0.49</td>\n      <td>2</td>\n      <td>Online Retailer - Electronics Purchase</td>\n      <td>199.9900</td>\n      <td>Online Shopping</td>\n      <td>2023-10-01</td>\n      <td>October</td>\n      <td>spending</td>\n      <td>paid_out</td>\n      <td>bank_A</td>\n      <td>bank_E</td>\n      <td>0.78</td>\n      <td>0.25</td>\n      <td>3</td>\n    </tr>\n    <tr>\n      <th>1</th>\n      <td>10298</td>\n      <td>bank_E</td>\n      <td>0.49</td>\n      <td>3</td>\n      <td>Utilities Payment - Internet Service</td>\n      <td>60.0000</td>\n      <td>Utilities</td>\n      <td>2023-10-01</td>\n      <td>October</td>\n      <td>spending</td>\n      <td>paid_out</td>\n      <td>bank_C</td>\n      <td>bank_E</td>\n      <td>0.30</td>\n      <td>0.22</td>\n      <td>1</td>\n    </tr>\n    <tr>\n      <th>2</th>\n      <td>10298</td>\n      <td>bank_E</td>\n      <td>0.49</td>\n      <td>16</td>\n      <td>Paycheck Deposit - ABC Corp.</td>\n      <td>10427.6474</td>\n      <td>Income</td>\n      <td>2023-10-01</td>\n      <td>October</td>\n      <td>income</td>\n      <td>paid_in</td>\n      <td>bank_E</td>\n      <td>bank_E</td>\n      <td>NaN</td>\n      <td>NaN</td>\n      <td>3</td>\n    </tr>\n    <tr>\n      <th>3</th>\n      <td>10298</td>\n      <td>bank_E</td>\n      <td>0.49</td>\n      <td>33</td>\n      <td>Rent Payment</td>\n      <td>1200.0000</td>\n      <td>Housing</td>\n      <td>2023-10-01</td>\n      <td>October</td>\n      <td>spending</td>\n      <td>paid_out</td>\n      <td>bank_E</td>\n      <td>bank_E</td>\n      <td>0.65</td>\n      <td>0.62</td>\n      <td>3</td>\n    </tr>\n    <tr>\n      <th>4</th>\n      <td>10298</td>\n      <td>bank_E</td>\n      <td>0.49</td>\n      <td>2869</td>\n      <td>Phone Bill Payment - Wireless Provider</td>\n      <td>70.0000</td>\n      <td>Utilities</td>\n      <td>2023-10-02</td>\n      <td>October</td>\n      <td>spending</td>\n      <td>paid_out</td>\n      <td>bank_A</td>\n      <td>bank_E</td>\n      <td>0.48</td>\n      <td>0.34</td>\n      <td>1</td>\n    </tr>\n  </tbody>\n</table>\n</div>"
     },
     "execution_count": 12,
     "metadata": {},
     "output_type": "execute_result"
    }
   ],
   "source": [
    "transactions.head()"
   ],
   "metadata": {
    "collapsed": false,
    "ExecuteTime": {
     "end_time": "2023-11-06T13:21:03.692663Z",
     "start_time": "2023-11-06T13:21:03.689869Z"
    }
   },
   "id": "7f6e0599666ed7c7"
  },
  {
   "cell_type": "code",
   "execution_count": 14,
   "outputs": [],
   "source": [
    "transactions_out = transactions[transactions['In_or_Out'] == 'paid_in']"
   ],
   "metadata": {
    "collapsed": false,
    "ExecuteTime": {
     "end_time": "2023-11-06T13:42:18.629296Z",
     "start_time": "2023-11-06T13:42:18.621775Z"
    }
   },
   "id": "edce5f86206be10"
  },
  {
   "cell_type": "code",
   "execution_count": 15,
   "outputs": [
    {
     "data": {
      "text/plain": "    customer_id home_bank  customer_prob  transaction_id  \\\n2         10298    bank_E           0.49              16   \n15        10298    bank_E           0.49            9312   \n28        10298    bank_E           0.49           16449   \n42        10298    bank_E           0.49           23738   \n53        10298    bank_E           0.49           27243   \n\n                                          description      Amount   category  \\\n2                        Paycheck Deposit - ABC Corp.  10427.6474     Income   \n15                   Transfer from Savings to Current    300.0000  Transfers   \n28  Transfer from Savings to Current - Emergency Fund    500.0000  Transfers   \n42                   Transfer from Savings to Current    250.0000  Transfers   \n53                   Transfer from Savings to Current    250.0000  Transfers   \n\n         date    month    type In_or_Out bank_to bank_from  transac_prob  \\\n2  2023-10-01  October  income   paid_in  bank_E    bank_E           NaN   \n15 2023-10-08  October  income   paid_in  bank_E    bank_E           NaN   \n28 2023-10-16  October  income   paid_in  bank_E    bank_E           NaN   \n42 2023-10-23  October  income   paid_in  bank_E    bank_E           NaN   \n53 2023-10-27  October  income   paid_in  bank_E    bank_E           NaN   \n\n    description_prob  priority  \n2                NaN         3  \n15               NaN         3  \n28               NaN         3  \n42               NaN         3  \n53               NaN         3  ",
      "text/html": "<div>\n<style scoped>\n    .dataframe tbody tr th:only-of-type {\n        vertical-align: middle;\n    }\n\n    .dataframe tbody tr th {\n        vertical-align: top;\n    }\n\n    .dataframe thead th {\n        text-align: right;\n    }\n</style>\n<table border=\"1\" class=\"dataframe\">\n  <thead>\n    <tr style=\"text-align: right;\">\n      <th></th>\n      <th>customer_id</th>\n      <th>home_bank</th>\n      <th>customer_prob</th>\n      <th>transaction_id</th>\n      <th>description</th>\n      <th>Amount</th>\n      <th>category</th>\n      <th>date</th>\n      <th>month</th>\n      <th>type</th>\n      <th>In_or_Out</th>\n      <th>bank_to</th>\n      <th>bank_from</th>\n      <th>transac_prob</th>\n      <th>description_prob</th>\n      <th>priority</th>\n    </tr>\n  </thead>\n  <tbody>\n    <tr>\n      <th>2</th>\n      <td>10298</td>\n      <td>bank_E</td>\n      <td>0.49</td>\n      <td>16</td>\n      <td>Paycheck Deposit - ABC Corp.</td>\n      <td>10427.6474</td>\n      <td>Income</td>\n      <td>2023-10-01</td>\n      <td>October</td>\n      <td>income</td>\n      <td>paid_in</td>\n      <td>bank_E</td>\n      <td>bank_E</td>\n      <td>NaN</td>\n      <td>NaN</td>\n      <td>3</td>\n    </tr>\n    <tr>\n      <th>15</th>\n      <td>10298</td>\n      <td>bank_E</td>\n      <td>0.49</td>\n      <td>9312</td>\n      <td>Transfer from Savings to Current</td>\n      <td>300.0000</td>\n      <td>Transfers</td>\n      <td>2023-10-08</td>\n      <td>October</td>\n      <td>income</td>\n      <td>paid_in</td>\n      <td>bank_E</td>\n      <td>bank_E</td>\n      <td>NaN</td>\n      <td>NaN</td>\n      <td>3</td>\n    </tr>\n    <tr>\n      <th>28</th>\n      <td>10298</td>\n      <td>bank_E</td>\n      <td>0.49</td>\n      <td>16449</td>\n      <td>Transfer from Savings to Current - Emergency Fund</td>\n      <td>500.0000</td>\n      <td>Transfers</td>\n      <td>2023-10-16</td>\n      <td>October</td>\n      <td>income</td>\n      <td>paid_in</td>\n      <td>bank_E</td>\n      <td>bank_E</td>\n      <td>NaN</td>\n      <td>NaN</td>\n      <td>3</td>\n    </tr>\n    <tr>\n      <th>42</th>\n      <td>10298</td>\n      <td>bank_E</td>\n      <td>0.49</td>\n      <td>23738</td>\n      <td>Transfer from Savings to Current</td>\n      <td>250.0000</td>\n      <td>Transfers</td>\n      <td>2023-10-23</td>\n      <td>October</td>\n      <td>income</td>\n      <td>paid_in</td>\n      <td>bank_E</td>\n      <td>bank_E</td>\n      <td>NaN</td>\n      <td>NaN</td>\n      <td>3</td>\n    </tr>\n    <tr>\n      <th>53</th>\n      <td>10298</td>\n      <td>bank_E</td>\n      <td>0.49</td>\n      <td>27243</td>\n      <td>Transfer from Savings to Current</td>\n      <td>250.0000</td>\n      <td>Transfers</td>\n      <td>2023-10-27</td>\n      <td>October</td>\n      <td>income</td>\n      <td>paid_in</td>\n      <td>bank_E</td>\n      <td>bank_E</td>\n      <td>NaN</td>\n      <td>NaN</td>\n      <td>3</td>\n    </tr>\n  </tbody>\n</table>\n</div>"
     },
     "execution_count": 15,
     "metadata": {},
     "output_type": "execute_result"
    }
   ],
   "source": [
    "transactions_out.head()"
   ],
   "metadata": {
    "collapsed": false,
    "ExecuteTime": {
     "end_time": "2023-11-06T13:42:26.518814Z",
     "start_time": "2023-11-06T13:42:26.508707Z"
    }
   },
   "id": "3d4d28296d50b7bd"
  },
  {
   "cell_type": "code",
   "execution_count": null,
   "outputs": [],
   "source": [],
   "metadata": {
    "collapsed": false
   },
   "id": "7aa68b368f996fc4"
  }
 ],
 "metadata": {
  "kernelspec": {
   "display_name": "Python 3",
   "language": "python",
   "name": "python3"
  },
  "language_info": {
   "codemirror_mode": {
    "name": "ipython",
    "version": 2
   },
   "file_extension": ".py",
   "mimetype": "text/x-python",
   "name": "python",
   "nbconvert_exporter": "python",
   "pygments_lexer": "ipython2",
   "version": "2.7.6"
  }
 },
 "nbformat": 4,
 "nbformat_minor": 5
}
