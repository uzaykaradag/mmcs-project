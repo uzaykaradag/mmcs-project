{
 "cells": [
  {
   "cell_type": "code",
   "execution_count": 7,
   "id": "164c668d392e9068",
   "metadata": {
    "collapsed": true,
    "ExecuteTime": {
     "end_time": "2023-11-06T13:17:20.861525Z",
     "start_time": "2023-11-06T13:17:03.387552Z"
    }
   },
   "outputs": [],
   "source": [
    "import pandas as pd\n",
    "\n",
    "# Load the data from each spreadsheet\n",
    "cb = pd.read_excel(\"data/231013_Customer_Base.xlsx\")\n",
    "ti = pd.read_excel(\"data/231013_Transactions_Input.xlsx\")\n",
    "fc = pd.read_excel(\"data/231013_Fraud_Cases.xlsx\")"
   ]
  },
  {
   "cell_type": "code",
   "execution_count": 8,
   "outputs": [
    {
     "data": {
      "text/plain": "   customer_id home_bank  customer_prob\n0        10298    bank_E           0.49\n1        14507    bank_E           0.35\n2        14558    bank_E           0.45\n3        13453    bank_E           0.63\n4        19629    bank_D           0.79",
      "text/html": "<div>\n<style scoped>\n    .dataframe tbody tr th:only-of-type {\n        vertical-align: middle;\n    }\n\n    .dataframe tbody tr th {\n        vertical-align: top;\n    }\n\n    .dataframe thead th {\n        text-align: right;\n    }\n</style>\n<table border=\"1\" class=\"dataframe\">\n  <thead>\n    <tr style=\"text-align: right;\">\n      <th></th>\n      <th>customer_id</th>\n      <th>home_bank</th>\n      <th>customer_prob</th>\n    </tr>\n  </thead>\n  <tbody>\n    <tr>\n      <th>0</th>\n      <td>10298</td>\n      <td>bank_E</td>\n      <td>0.49</td>\n    </tr>\n    <tr>\n      <th>1</th>\n      <td>14507</td>\n      <td>bank_E</td>\n      <td>0.35</td>\n    </tr>\n    <tr>\n      <th>2</th>\n      <td>14558</td>\n      <td>bank_E</td>\n      <td>0.45</td>\n    </tr>\n    <tr>\n      <th>3</th>\n      <td>13453</td>\n      <td>bank_E</td>\n      <td>0.63</td>\n    </tr>\n    <tr>\n      <th>4</th>\n      <td>19629</td>\n      <td>bank_D</td>\n      <td>0.79</td>\n    </tr>\n  </tbody>\n</table>\n</div>"
     },
     "execution_count": 8,
     "metadata": {},
     "output_type": "execute_result"
    }
   ],
   "source": [
    "cb.head()"
   ],
   "metadata": {
    "collapsed": false,
    "ExecuteTime": {
     "end_time": "2023-11-06T13:17:40.033824Z",
     "start_time": "2023-11-06T13:17:40.028057Z"
    }
   },
   "id": "initial_id"
  },
  {
   "cell_type": "code",
   "execution_count": 9,
   "outputs": [
    {
     "data": {
      "text/plain": "   transaction_id                             description       Amount  \\\n0               1        Salary Deposit - XYZ Corporation  11474.33021   \n1               2  Online Retailer - Electronics Purchase    199.99000   \n2               3    Utilities Payment - Internet Service     60.00000   \n3               4                            Rent Payment   1500.00000   \n4               5         Paycheck Deposit - Company Name  10480.68449   \n\n          category       date    month  customer_id      type In_or_Out  \\\n0           Income 2023-10-01  October        17699    income   paid_in   \n1  Online Shopping 2023-10-01  October        10298  spending  paid_out   \n2        Utilities 2023-10-01  October        10298  spending  paid_out   \n3          Housing 2023-10-01  October        14507  spending  paid_out   \n4           Income 2023-10-01  October        14507    income   paid_in   \n\n  bank_to bank_from  transac_prob  description_prob  priority  \n0  bank_A    bank_A           NaN               NaN         3  \n1  bank_A    bank_E          0.78              0.25         3  \n2  bank_C    bank_E          0.30              0.22         1  \n3  bank_D    bank_E          0.57              0.53         3  \n4  bank_E    bank_D           NaN               NaN         3  ",
      "text/html": "<div>\n<style scoped>\n    .dataframe tbody tr th:only-of-type {\n        vertical-align: middle;\n    }\n\n    .dataframe tbody tr th {\n        vertical-align: top;\n    }\n\n    .dataframe thead th {\n        text-align: right;\n    }\n</style>\n<table border=\"1\" class=\"dataframe\">\n  <thead>\n    <tr style=\"text-align: right;\">\n      <th></th>\n      <th>transaction_id</th>\n      <th>description</th>\n      <th>Amount</th>\n      <th>category</th>\n      <th>date</th>\n      <th>month</th>\n      <th>customer_id</th>\n      <th>type</th>\n      <th>In_or_Out</th>\n      <th>bank_to</th>\n      <th>bank_from</th>\n      <th>transac_prob</th>\n      <th>description_prob</th>\n      <th>priority</th>\n    </tr>\n  </thead>\n  <tbody>\n    <tr>\n      <th>0</th>\n      <td>1</td>\n      <td>Salary Deposit - XYZ Corporation</td>\n      <td>11474.33021</td>\n      <td>Income</td>\n      <td>2023-10-01</td>\n      <td>October</td>\n      <td>17699</td>\n      <td>income</td>\n      <td>paid_in</td>\n      <td>bank_A</td>\n      <td>bank_A</td>\n      <td>NaN</td>\n      <td>NaN</td>\n      <td>3</td>\n    </tr>\n    <tr>\n      <th>1</th>\n      <td>2</td>\n      <td>Online Retailer - Electronics Purchase</td>\n      <td>199.99000</td>\n      <td>Online Shopping</td>\n      <td>2023-10-01</td>\n      <td>October</td>\n      <td>10298</td>\n      <td>spending</td>\n      <td>paid_out</td>\n      <td>bank_A</td>\n      <td>bank_E</td>\n      <td>0.78</td>\n      <td>0.25</td>\n      <td>3</td>\n    </tr>\n    <tr>\n      <th>2</th>\n      <td>3</td>\n      <td>Utilities Payment - Internet Service</td>\n      <td>60.00000</td>\n      <td>Utilities</td>\n      <td>2023-10-01</td>\n      <td>October</td>\n      <td>10298</td>\n      <td>spending</td>\n      <td>paid_out</td>\n      <td>bank_C</td>\n      <td>bank_E</td>\n      <td>0.30</td>\n      <td>0.22</td>\n      <td>1</td>\n    </tr>\n    <tr>\n      <th>3</th>\n      <td>4</td>\n      <td>Rent Payment</td>\n      <td>1500.00000</td>\n      <td>Housing</td>\n      <td>2023-10-01</td>\n      <td>October</td>\n      <td>14507</td>\n      <td>spending</td>\n      <td>paid_out</td>\n      <td>bank_D</td>\n      <td>bank_E</td>\n      <td>0.57</td>\n      <td>0.53</td>\n      <td>3</td>\n    </tr>\n    <tr>\n      <th>4</th>\n      <td>5</td>\n      <td>Paycheck Deposit - Company Name</td>\n      <td>10480.68449</td>\n      <td>Income</td>\n      <td>2023-10-01</td>\n      <td>October</td>\n      <td>14507</td>\n      <td>income</td>\n      <td>paid_in</td>\n      <td>bank_E</td>\n      <td>bank_D</td>\n      <td>NaN</td>\n      <td>NaN</td>\n      <td>3</td>\n    </tr>\n  </tbody>\n</table>\n</div>"
     },
     "execution_count": 9,
     "metadata": {},
     "output_type": "execute_result"
    }
   ],
   "source": [
    "ti.head()"
   ],
   "metadata": {
    "collapsed": false,
    "ExecuteTime": {
     "end_time": "2023-11-06T13:17:44.874651Z",
     "start_time": "2023-11-06T13:17:44.869614Z"
    }
   },
   "id": "1499d0aef8216b43"
  },
  {
   "cell_type": "code",
   "execution_count": 10,
   "outputs": [
    {
     "data": {
      "text/plain": "   transaction_id  is_scam_transaction     fraud_type  case_id\n0             187                    1     AdvanceFee  5415844\n1             247                    1  Impersonation  4280670\n2             818                    1  Impersonation  6956462\n3             891                    1       Purchase  2702984\n4            1142                    1       Purchase  3493741",
      "text/html": "<div>\n<style scoped>\n    .dataframe tbody tr th:only-of-type {\n        vertical-align: middle;\n    }\n\n    .dataframe tbody tr th {\n        vertical-align: top;\n    }\n\n    .dataframe thead th {\n        text-align: right;\n    }\n</style>\n<table border=\"1\" class=\"dataframe\">\n  <thead>\n    <tr style=\"text-align: right;\">\n      <th></th>\n      <th>transaction_id</th>\n      <th>is_scam_transaction</th>\n      <th>fraud_type</th>\n      <th>case_id</th>\n    </tr>\n  </thead>\n  <tbody>\n    <tr>\n      <th>0</th>\n      <td>187</td>\n      <td>1</td>\n      <td>AdvanceFee</td>\n      <td>5415844</td>\n    </tr>\n    <tr>\n      <th>1</th>\n      <td>247</td>\n      <td>1</td>\n      <td>Impersonation</td>\n      <td>4280670</td>\n    </tr>\n    <tr>\n      <th>2</th>\n      <td>818</td>\n      <td>1</td>\n      <td>Impersonation</td>\n      <td>6956462</td>\n    </tr>\n    <tr>\n      <th>3</th>\n      <td>891</td>\n      <td>1</td>\n      <td>Purchase</td>\n      <td>2702984</td>\n    </tr>\n    <tr>\n      <th>4</th>\n      <td>1142</td>\n      <td>1</td>\n      <td>Purchase</td>\n      <td>3493741</td>\n    </tr>\n  </tbody>\n</table>\n</div>"
     },
     "execution_count": 10,
     "metadata": {},
     "output_type": "execute_result"
    }
   ],
   "source": [
    "fc.head()"
   ],
   "metadata": {
    "collapsed": false,
    "ExecuteTime": {
     "end_time": "2023-11-06T13:18:08.904131Z",
     "start_time": "2023-11-06T13:18:08.888863Z"
    }
   },
   "id": "fc3328e56068a67e"
  },
  {
   "cell_type": "code",
   "execution_count": 11,
   "outputs": [],
   "source": [
    "transactions = pd.merge(cb, ti, on='customer_id', how='inner')"
   ],
   "metadata": {
    "collapsed": false,
    "ExecuteTime": {
     "end_time": "2023-11-06T13:21:00.129216Z",
     "start_time": "2023-11-06T13:21:00.057234Z"
    }
   },
   "id": "8b14c0c90ad77684"
  },
  {
   "cell_type": "code",
   "execution_count": 12,
   "outputs": [
    {
     "data": {
      "text/plain": "   customer_id home_bank  customer_prob  transaction_id  \\\n0        10298    bank_E           0.49               2   \n1        10298    bank_E           0.49               3   \n2        10298    bank_E           0.49              16   \n3        10298    bank_E           0.49              33   \n4        10298    bank_E           0.49            2869   \n\n                              description      Amount         category  \\\n0  Online Retailer - Electronics Purchase    199.9900  Online Shopping   \n1    Utilities Payment - Internet Service     60.0000        Utilities   \n2            Paycheck Deposit - ABC Corp.  10427.6474           Income   \n3                            Rent Payment   1200.0000          Housing   \n4  Phone Bill Payment - Wireless Provider     70.0000        Utilities   \n\n        date    month      type In_or_Out bank_to bank_from  transac_prob  \\\n0 2023-10-01  October  spending  paid_out  bank_A    bank_E          0.78   \n1 2023-10-01  October  spending  paid_out  bank_C    bank_E          0.30   \n2 2023-10-01  October    income   paid_in  bank_E    bank_E           NaN   \n3 2023-10-01  October  spending  paid_out  bank_E    bank_E          0.65   \n4 2023-10-02  October  spending  paid_out  bank_A    bank_E          0.48   \n\n   description_prob  priority  \n0              0.25         3  \n1              0.22         1  \n2               NaN         3  \n3              0.62         3  \n4              0.34         1  ",
      "text/html": "<div>\n<style scoped>\n    .dataframe tbody tr th:only-of-type {\n        vertical-align: middle;\n    }\n\n    .dataframe tbody tr th {\n        vertical-align: top;\n    }\n\n    .dataframe thead th {\n        text-align: right;\n    }\n</style>\n<table border=\"1\" class=\"dataframe\">\n  <thead>\n    <tr style=\"text-align: right;\">\n      <th></th>\n      <th>customer_id</th>\n      <th>home_bank</th>\n      <th>customer_prob</th>\n      <th>transaction_id</th>\n      <th>description</th>\n      <th>Amount</th>\n      <th>category</th>\n      <th>date</th>\n      <th>month</th>\n      <th>type</th>\n      <th>In_or_Out</th>\n      <th>bank_to</th>\n      <th>bank_from</th>\n      <th>transac_prob</th>\n      <th>description_prob</th>\n      <th>priority</th>\n    </tr>\n  </thead>\n  <tbody>\n    <tr>\n      <th>0</th>\n      <td>10298</td>\n      <td>bank_E</td>\n      <td>0.49</td>\n      <td>2</td>\n      <td>Online Retailer - Electronics Purchase</td>\n      <td>199.9900</td>\n      <td>Online Shopping</td>\n      <td>2023-10-01</td>\n      <td>October</td>\n      <td>spending</td>\n      <td>paid_out</td>\n      <td>bank_A</td>\n      <td>bank_E</td>\n      <td>0.78</td>\n      <td>0.25</td>\n      <td>3</td>\n    </tr>\n    <tr>\n      <th>1</th>\n      <td>10298</td>\n      <td>bank_E</td>\n      <td>0.49</td>\n      <td>3</td>\n      <td>Utilities Payment - Internet Service</td>\n      <td>60.0000</td>\n      <td>Utilities</td>\n      <td>2023-10-01</td>\n      <td>October</td>\n      <td>spending</td>\n      <td>paid_out</td>\n      <td>bank_C</td>\n      <td>bank_E</td>\n      <td>0.30</td>\n      <td>0.22</td>\n      <td>1</td>\n    </tr>\n    <tr>\n      <th>2</th>\n      <td>10298</td>\n      <td>bank_E</td>\n      <td>0.49</td>\n      <td>16</td>\n      <td>Paycheck Deposit - ABC Corp.</td>\n      <td>10427.6474</td>\n      <td>Income</td>\n      <td>2023-10-01</td>\n      <td>October</td>\n      <td>income</td>\n      <td>paid_in</td>\n      <td>bank_E</td>\n      <td>bank_E</td>\n      <td>NaN</td>\n      <td>NaN</td>\n      <td>3</td>\n    </tr>\n    <tr>\n      <th>3</th>\n      <td>10298</td>\n      <td>bank_E</td>\n      <td>0.49</td>\n      <td>33</td>\n      <td>Rent Payment</td>\n      <td>1200.0000</td>\n      <td>Housing</td>\n      <td>2023-10-01</td>\n      <td>October</td>\n      <td>spending</td>\n      <td>paid_out</td>\n      <td>bank_E</td>\n      <td>bank_E</td>\n      <td>0.65</td>\n      <td>0.62</td>\n      <td>3</td>\n    </tr>\n    <tr>\n      <th>4</th>\n      <td>10298</td>\n      <td>bank_E</td>\n      <td>0.49</td>\n      <td>2869</td>\n      <td>Phone Bill Payment - Wireless Provider</td>\n      <td>70.0000</td>\n      <td>Utilities</td>\n      <td>2023-10-02</td>\n      <td>October</td>\n      <td>spending</td>\n      <td>paid_out</td>\n      <td>bank_A</td>\n      <td>bank_E</td>\n      <td>0.48</td>\n      <td>0.34</td>\n      <td>1</td>\n    </tr>\n  </tbody>\n</table>\n</div>"
     },
     "execution_count": 12,
     "metadata": {},
     "output_type": "execute_result"
    }
   ],
   "source": [
    "transactions.head()"
   ],
   "metadata": {
    "collapsed": false,
    "ExecuteTime": {
     "end_time": "2023-11-06T13:21:03.692663Z",
     "start_time": "2023-11-06T13:21:03.689869Z"
    }
   },
   "id": "7f6e0599666ed7c7"
  },
  {
   "cell_type": "code",
   "execution_count": 14,
   "outputs": [],
   "source": [
    "transactions_out = transactions[transactions['In_or_Out'] == 'paid_in']"
   ],
   "metadata": {
    "collapsed": false,
    "ExecuteTime": {
     "end_time": "2023-11-06T13:42:18.629296Z",
     "start_time": "2023-11-06T13:42:18.621775Z"
    }
   },
   "id": "edce5f86206be10"
  },
  {
   "cell_type": "code",
   "execution_count": 15,
   "outputs": [
    {
     "data": {
      "text/plain": "    customer_id home_bank  customer_prob  transaction_id  \\\n2         10298    bank_E           0.49              16   \n15        10298    bank_E           0.49            9312   \n28        10298    bank_E           0.49           16449   \n42        10298    bank_E           0.49           23738   \n53        10298    bank_E           0.49           27243   \n\n                                          description      Amount   category  \\\n2                        Paycheck Deposit - ABC Corp.  10427.6474     Income   \n15                   Transfer from Savings to Current    300.0000  Transfers   \n28  Transfer from Savings to Current - Emergency Fund    500.0000  Transfers   \n42                   Transfer from Savings to Current    250.0000  Transfers   \n53                   Transfer from Savings to Current    250.0000  Transfers   \n\n         date    month    type In_or_Out bank_to bank_from  transac_prob  \\\n2  2023-10-01  October  income   paid_in  bank_E    bank_E           NaN   \n15 2023-10-08  October  income   paid_in  bank_E    bank_E           NaN   \n28 2023-10-16  October  income   paid_in  bank_E    bank_E           NaN   \n42 2023-10-23  October  income   paid_in  bank_E    bank_E           NaN   \n53 2023-10-27  October  income   paid_in  bank_E    bank_E           NaN   \n\n    description_prob  priority  \n2                NaN         3  \n15               NaN         3  \n28               NaN         3  \n42               NaN         3  \n53               NaN         3  ",
      "text/html": "<div>\n<style scoped>\n    .dataframe tbody tr th:only-of-type {\n        vertical-align: middle;\n    }\n\n    .dataframe tbody tr th {\n        vertical-align: top;\n    }\n\n    .dataframe thead th {\n        text-align: right;\n    }\n</style>\n<table border=\"1\" class=\"dataframe\">\n  <thead>\n    <tr style=\"text-align: right;\">\n      <th></th>\n      <th>customer_id</th>\n      <th>home_bank</th>\n      <th>customer_prob</th>\n      <th>transaction_id</th>\n      <th>description</th>\n      <th>Amount</th>\n      <th>category</th>\n      <th>date</th>\n      <th>month</th>\n      <th>type</th>\n      <th>In_or_Out</th>\n      <th>bank_to</th>\n      <th>bank_from</th>\n      <th>transac_prob</th>\n      <th>description_prob</th>\n      <th>priority</th>\n    </tr>\n  </thead>\n  <tbody>\n    <tr>\n      <th>2</th>\n      <td>10298</td>\n      <td>bank_E</td>\n      <td>0.49</td>\n      <td>16</td>\n      <td>Paycheck Deposit - ABC Corp.</td>\n      <td>10427.6474</td>\n      <td>Income</td>\n      <td>2023-10-01</td>\n      <td>October</td>\n      <td>income</td>\n      <td>paid_in</td>\n      <td>bank_E</td>\n      <td>bank_E</td>\n      <td>NaN</td>\n      <td>NaN</td>\n      <td>3</td>\n    </tr>\n    <tr>\n      <th>15</th>\n      <td>10298</td>\n      <td>bank_E</td>\n      <td>0.49</td>\n      <td>9312</td>\n      <td>Transfer from Savings to Current</td>\n      <td>300.0000</td>\n      <td>Transfers</td>\n      <td>2023-10-08</td>\n      <td>October</td>\n      <td>income</td>\n      <td>paid_in</td>\n      <td>bank_E</td>\n      <td>bank_E</td>\n      <td>NaN</td>\n      <td>NaN</td>\n      <td>3</td>\n    </tr>\n    <tr>\n      <th>28</th>\n      <td>10298</td>\n      <td>bank_E</td>\n      <td>0.49</td>\n      <td>16449</td>\n      <td>Transfer from Savings to Current - Emergency Fund</td>\n      <td>500.0000</td>\n      <td>Transfers</td>\n      <td>2023-10-16</td>\n      <td>October</td>\n      <td>income</td>\n      <td>paid_in</td>\n      <td>bank_E</td>\n      <td>bank_E</td>\n      <td>NaN</td>\n      <td>NaN</td>\n      <td>3</td>\n    </tr>\n    <tr>\n      <th>42</th>\n      <td>10298</td>\n      <td>bank_E</td>\n      <td>0.49</td>\n      <td>23738</td>\n      <td>Transfer from Savings to Current</td>\n      <td>250.0000</td>\n      <td>Transfers</td>\n      <td>2023-10-23</td>\n      <td>October</td>\n      <td>income</td>\n      <td>paid_in</td>\n      <td>bank_E</td>\n      <td>bank_E</td>\n      <td>NaN</td>\n      <td>NaN</td>\n      <td>3</td>\n    </tr>\n    <tr>\n      <th>53</th>\n      <td>10298</td>\n      <td>bank_E</td>\n      <td>0.49</td>\n      <td>27243</td>\n      <td>Transfer from Savings to Current</td>\n      <td>250.0000</td>\n      <td>Transfers</td>\n      <td>2023-10-27</td>\n      <td>October</td>\n      <td>income</td>\n      <td>paid_in</td>\n      <td>bank_E</td>\n      <td>bank_E</td>\n      <td>NaN</td>\n      <td>NaN</td>\n      <td>3</td>\n    </tr>\n  </tbody>\n</table>\n</div>"
     },
     "execution_count": 15,
     "metadata": {},
     "output_type": "execute_result"
    }
   ],
   "source": [
    "transactions_out.head()"
   ],
   "metadata": {
    "collapsed": false,
    "ExecuteTime": {
     "end_time": "2023-11-06T13:42:26.518814Z",
     "start_time": "2023-11-06T13:42:26.508707Z"
    }
   },
   "id": "3d4d28296d50b7bd"
  },
  {
   "cell_type": "markdown",
   "source": [
    "Write a function that takes in Parameters for the LP model and solves it.\n",
    "Write a function that takes in the solvers solution and the real fraud cases for the day and provides meaningful metrics.\n",
    "Write a function that updates the dynamic parameters based on the metrics."
   ],
   "metadata": {
    "collapsed": false
   },
   "id": "326690202d2b610f"
  },
  {
   "cell_type": "code",
   "execution_count": 2,
   "outputs": [
    {
     "name": "stdout",
     "output_type": "stream",
     "text": [
      "Welcome to the CBC MILP Solver \n",
      "Version: 2.10.3 \n",
      "Build Date: Dec 15 2019 \n",
      "\n",
      "command line - /Library/Frameworks/Python.framework/Versions/3.12/lib/python3.12/site-packages/pulp/solverdir/cbc/osx/64/cbc /var/folders/_g/3jdpr0d14q1g62hkp6vf5mlh0000gn/T/c59fe6ffe1024b51a5f3181d90d861cc-pulp.mps timeMode elapsed branch printingOptions all solution /var/folders/_g/3jdpr0d14q1g62hkp6vf5mlh0000gn/T/c59fe6ffe1024b51a5f3181d90d861cc-pulp.sol (default strategy 1)\n",
      "At line 2 NAME          MODEL\n",
      "At line 3 ROWS\n",
      "At line 110 COLUMNS\n",
      "At line 1011 RHS\n",
      "At line 1117 BOUNDS\n",
      "At line 1318 ENDATA\n",
      "Problem MODEL has 105 rows, 200 columns and 300 elements\n",
      "Coin0008I MODEL read with 0 errors\n",
      "Option for timeMode changed from cpu to elapsed\n",
      "Continuous objective value is -204471 - 0.00 seconds\n",
      "Cgl0004I processed model has 5 rows, 80 columns (80 integer (60 of which binary)) and 80 elements\n",
      "Cbc0038I Initial state - 5 integers unsatisfied sum - 1.75\n",
      "Cbc0038I Pass   1: suminf.    0.37500 (2) obj. -201879 iterations 5\n",
      "Cbc0038I Solution found of -183996\n",
      "Cbc0038I Branch and bound needed to clear up 1 general integers\n",
      "Cbc0038I Full problem 5 rows 80 columns, reduced to 3 rows 8 columns\n",
      "Cbc0038I Cleaned solution of -184424\n",
      "Cbc0038I Before mini branch and bound, 70 integers at bound fixed and 0 continuous\n",
      "Cbc0038I Full problem 5 rows 80 columns, reduced to 0 rows 0 columns\n",
      "Cbc0038I Mini branch and bound improved solution from -184424 to -203662 (0.02 seconds)\n",
      "Cbc0038I Round again with cutoff of -203743\n",
      "Cbc0038I Reduced cost fixing fixed 20 variables on major pass 2\n",
      "Cbc0038I Pass   2: suminf.    0.37500 (2) obj. -204311 iterations 2\n",
      "Cbc0038I Pass   3: suminf.    0.50000 (2) obj. -203883 iterations 1\n",
      "Cbc0038I Solution found of -203883\n",
      "Cbc0038I Branch and bound needed to clear up 2 general integers\n",
      "Cbc0038I Full problem 6 rows 80 columns, reduced to 4 rows 8 columns\n",
      "Cbc0038I Cleaned solution of -203883\n",
      "Cbc0038I Before mini branch and bound, 69 integers at bound fixed and 0 continuous\n",
      "Cbc0038I Full problem 5 rows 80 columns, reduced to 1 rows 2 columns\n",
      "Cbc0038I Mini branch and bound improved solution from -203883 to -203907 (0.02 seconds)\n",
      "Cbc0038I Round again with cutoff of -204020\n",
      "Cbc0038I Reduced cost fixing fixed 20 variables on major pass 3\n",
      "Cbc0038I Pass   4: suminf.    0.37500 (2) obj. -204311 iterations 0\n",
      "Cbc0038I Pass   5: suminf.    0.72000 (3) obj. -204020 iterations 1\n",
      "Cbc0038I Pass   6: suminf.    0.92500 (4) obj. -204020 iterations 13\n",
      "Cbc0038I Pass   7: suminf.    0.89375 (4) obj. -204020 iterations 4\n",
      "Cbc0038I Pass   8: suminf.    1.15500 (4) obj. -204020 iterations 5\n",
      "Cbc0038I Pass   9: suminf.    1.12500 (3) obj. -204140 iterations 1\n",
      "Cbc0038I Solution found of -204140\n",
      "Cbc0038I Branch and bound needed to clear up 3 general integers\n",
      "Cbc0038I Full problem 6 rows 80 columns, reduced to 6 rows 13 columns\n",
      "Cbc0038I Cleaned solution of -204140\n",
      "Cbc0038I Before mini branch and bound, 55 integers at bound fixed and 0 continuous\n",
      "Cbc0038I Full problem 5 rows 80 columns, reduced to 5 rows 22 columns\n",
      "Cbc0038I Mini branch and bound improved solution from -204140 to -204287 (0.02 seconds)\n",
      "Cbc0038I Round again with cutoff of -204342\n",
      "Cbc0038I Reduced cost fixing fixed 30 variables on major pass 4\n",
      "Cbc0038I Pass  10: suminf.    0.37500 (2) obj. -204360 iterations 2\n",
      "Cbc0038I Pass  11: suminf.    1.31250 (4) obj. -204342 iterations 3\n",
      "Cbc0038I Pass  12: suminf.    1.12500 (3) obj. -204360 iterations 1\n",
      "Cbc0038I Pass  13: suminf.    1.10937 (4) obj. -204342 iterations 7\n",
      "Cbc0038I Pass  14: suminf.    0.87500 (3) obj. -204373 iterations 1\n",
      "Cbc0038I Pass  15: suminf.    1.18750 (4) obj. -204342 iterations 1\n",
      "Cbc0038I Pass  16: suminf.    2.18750 (6) obj. -204342 iterations 7\n",
      "Cbc0038I Pass  17: suminf.    1.50000 (4) obj. -204385 iterations 2\n",
      "Cbc0038I Pass  18: suminf.    1.43750 (5) obj. -204342 iterations 1\n",
      "Cbc0038I Pass  19: suminf.    1.43750 (5) obj. -204342 iterations 0\n",
      "Cbc0038I Pass  20: suminf.    1.68750 (5) obj. -204342 iterations 3\n",
      "Cbc0038I Pass  21: suminf.    1.26563 (5) obj. -204342 iterations 7\n",
      "Cbc0038I Pass  22: suminf.    1.12500 (4) obj. -204342 iterations 1\n",
      "Cbc0038I Pass  23: suminf.    1.43750 (4) obj. -204342 iterations 2\n",
      "Cbc0038I Pass  24: suminf.    1.25000 (3) obj. -204348 iterations 1\n",
      "Cbc0038I Pass  25: suminf.    1.81250 (4) obj. -204342 iterations 1\n",
      "Cbc0038I Pass  26: suminf.    1.87500 (5) obj. -204342 iterations 7\n",
      "Cbc0038I Pass  27: suminf.    1.06250 (4) obj. -204342 iterations 4\n",
      "Cbc0038I Pass  28: suminf.    1.68750 (4) obj. -204342 iterations 3\n",
      "Cbc0038I Pass  29: suminf.    1.68750 (4) obj. -204342 iterations 0\n",
      "Cbc0038I Pass  30: suminf.    1.25000 (3) obj. -204373 iterations 2\n",
      "Cbc0038I Pass  31: suminf.    1.62500 (4) obj. -204342 iterations 5\n",
      "Cbc0038I Pass  32: suminf.    1.25000 (3) obj. -204373 iterations 1\n",
      "Cbc0038I Pass  33: suminf.    1.43750 (4) obj. -204342 iterations 1\n",
      "Cbc0038I Pass  34: suminf.    1.43750 (4) obj. -204342 iterations 0\n",
      "Cbc0038I Pass  35: suminf.    1.31250 (4) obj. -204342 iterations 3\n",
      "Cbc0038I Pass  36: suminf.    1.87500 (4) obj. -204342 iterations 8\n",
      "Cbc0038I Pass  37: suminf.    0.81250 (3) obj. -204342 iterations 3\n",
      "Cbc0038I Pass  38: suminf.    0.87500 (2) obj. -204373 iterations 1\n",
      "Cbc0038I Pass  39: suminf.    1.12500 (5) obj. -204342 iterations 8\n",
      "Cbc0038I Rounding solution of -204348 is better than previous of -204287\n",
      "\n",
      "Cbc0038I Before mini branch and bound, 47 integers at bound fixed and 0 continuous\n",
      "Cbc0038I Full problem 5 rows 80 columns, reduced to 5 rows 33 columns\n",
      "Cbc0038I Mini branch and bound improved solution from -204348 to -204471 (0.03 seconds)\n",
      "Cbc0038I After 0.03 seconds - Feasibility pump exiting with objective of -204471 - took 0.01 seconds\n",
      "Cbc0012I Integer solution of -204470.52 found by feasibility pump after 0 iterations and 0 nodes (0.03 seconds)\n",
      "Cbc0001I Search completed - best objective -204470.520975, took 0 iterations and 0 nodes (0.03 seconds)\n",
      "Cbc0035I Maximum depth 0, 0 variables fixed on reduced cost\n",
      "Cuts at root node changed objective from -204471 to -204471\n",
      "Probing was tried 0 times and created 0 cuts of which 0 were active after adding rounds of cuts (0.000 seconds)\n",
      "Gomory was tried 0 times and created 0 cuts of which 0 were active after adding rounds of cuts (0.000 seconds)\n",
      "Knapsack was tried 0 times and created 0 cuts of which 0 were active after adding rounds of cuts (0.000 seconds)\n",
      "Clique was tried 0 times and created 0 cuts of which 0 were active after adding rounds of cuts (0.000 seconds)\n",
      "MixedIntegerRounding2 was tried 0 times and created 0 cuts of which 0 were active after adding rounds of cuts (0.000 seconds)\n",
      "FlowCover was tried 0 times and created 0 cuts of which 0 were active after adding rounds of cuts (0.000 seconds)\n",
      "TwoMirCuts was tried 0 times and created 0 cuts of which 0 were active after adding rounds of cuts (0.000 seconds)\n",
      "ZeroHalf was tried 0 times and created 0 cuts of which 0 were active after adding rounds of cuts (0.000 seconds)\n",
      "\n",
      "Result - Optimal solution found\n",
      "\n",
      "Objective value:                -204470.52097500\n",
      "Enumerated nodes:               0\n",
      "Total iterations:               0\n",
      "Time (CPU seconds):             0.01\n",
      "Time (Wallclock seconds):       0.03\n",
      "\n",
      "Option for printingOptions changed from normal to all\n",
      "Total time (CPU seconds):       0.01   (Wallclock seconds):       0.03\n",
      "\n",
      "x_(16,_'A',_1) = 1.0\n",
      "x_(16,_'A',_2) = 1.0\n",
      "x_(16,_'A',_3) = 1.0\n",
      "x_(16,_'A',_4) = 1.0\n",
      "x_(16,_'B',_1) = 1.0\n",
      "x_(16,_'B',_2) = 1.0\n",
      "x_(16,_'B',_3) = 1.0\n",
      "x_(16,_'B',_4) = 1.0\n",
      "x_(16,_'C',_1) = 1.0\n",
      "x_(16,_'C',_2) = 1.0\n",
      "x_(16,_'C',_3) = 1.0\n",
      "x_(16,_'C',_4) = 1.0\n",
      "x_(16,_'D',_1) = 1.0\n",
      "x_(16,_'D',_2) = 1.0\n",
      "x_(16,_'D',_3) = 1.0\n",
      "x_(16,_'D',_4) = 1.0\n",
      "x_(16,_'E',_1) = 1.0\n",
      "x_(16,_'E',_2) = 1.0\n",
      "x_(16,_'E',_3) = 1.0\n",
      "x_(16,_'E',_4) = 1.0\n",
      "x_(16449,_'A',_1) = 1.0\n",
      "x_(16449,_'A',_2) = 1.0\n",
      "x_(16449,_'A',_3) = 1.0\n",
      "x_(16449,_'A',_4) = 1.0\n",
      "x_(16449,_'B',_1) = 1.0\n",
      "x_(16449,_'B',_2) = 1.0\n",
      "x_(16449,_'B',_3) = 1.0\n",
      "x_(16449,_'B',_4) = 1.0\n",
      "x_(16449,_'C',_1) = 1.0\n",
      "x_(16449,_'C',_2) = 1.0\n",
      "x_(16449,_'C',_3) = 1.0\n",
      "x_(16449,_'C',_4) = 1.0\n",
      "x_(16449,_'D',_1) = 1.0\n",
      "x_(16449,_'D',_2) = 1.0\n",
      "x_(16449,_'D',_3) = 1.0\n",
      "x_(16449,_'D',_4) = 1.0\n",
      "x_(16449,_'E',_1) = 1.0\n",
      "x_(16449,_'E',_2) = 1.0\n",
      "x_(16449,_'E',_3) = 1.0\n",
      "x_(16449,_'E',_4) = 1.0\n",
      "x_(23738,_'A',_1) = 0.0\n",
      "x_(23738,_'A',_2) = 0.0\n",
      "x_(23738,_'A',_3) = 0.0\n",
      "x_(23738,_'A',_4) = 0.0\n",
      "x_(23738,_'B',_1) = 0.0\n",
      "x_(23738,_'B',_2) = 0.0\n",
      "x_(23738,_'B',_3) = 0.0\n",
      "x_(23738,_'B',_4) = 0.0\n",
      "x_(23738,_'C',_1) = 0.0\n",
      "x_(23738,_'C',_2) = 0.0\n",
      "x_(23738,_'C',_3) = 0.0\n",
      "x_(23738,_'C',_4) = 0.0\n",
      "x_(23738,_'D',_1) = 0.0\n",
      "x_(23738,_'D',_2) = 0.0\n",
      "x_(23738,_'D',_3) = 0.0\n",
      "x_(23738,_'D',_4) = 0.0\n",
      "x_(23738,_'E',_1) = 0.0\n",
      "x_(23738,_'E',_2) = 0.0\n",
      "x_(23738,_'E',_3) = 0.0\n",
      "x_(23738,_'E',_4) = 0.0\n",
      "x_(27243,_'A',_1) = 0.0\n",
      "x_(27243,_'A',_2) = 0.0\n",
      "x_(27243,_'A',_3) = 0.0\n",
      "x_(27243,_'A',_4) = 0.0\n",
      "x_(27243,_'B',_1) = 0.0\n",
      "x_(27243,_'B',_2) = 0.0\n",
      "x_(27243,_'B',_3) = 0.0\n",
      "x_(27243,_'B',_4) = 0.0\n",
      "x_(27243,_'C',_1) = 0.0\n",
      "x_(27243,_'C',_2) = 0.0\n",
      "x_(27243,_'C',_3) = 0.0\n",
      "x_(27243,_'C',_4) = 0.0\n",
      "x_(27243,_'D',_1) = 0.0\n",
      "x_(27243,_'D',_2) = 0.0\n",
      "x_(27243,_'D',_3) = 0.0\n",
      "x_(27243,_'D',_4) = 0.0\n",
      "x_(27243,_'E',_1) = 0.0\n",
      "x_(27243,_'E',_2) = 0.0\n",
      "x_(27243,_'E',_3) = 0.0\n",
      "x_(27243,_'E',_4) = 0.0\n",
      "x_(9312,_'A',_1) = 0.0\n",
      "x_(9312,_'A',_2) = 1.0\n",
      "x_(9312,_'A',_3) = 0.0\n",
      "x_(9312,_'A',_4) = 1.0\n",
      "x_(9312,_'B',_1) = 0.0\n",
      "x_(9312,_'B',_2) = 1.0\n",
      "x_(9312,_'B',_3) = 0.0\n",
      "x_(9312,_'B',_4) = 1.0\n",
      "x_(9312,_'C',_1) = 0.0\n",
      "x_(9312,_'C',_2) = 1.0\n",
      "x_(9312,_'C',_3) = 0.0\n",
      "x_(9312,_'C',_4) = 1.0\n",
      "x_(9312,_'D',_1) = 0.0\n",
      "x_(9312,_'D',_2) = 1.0\n",
      "x_(9312,_'D',_3) = 0.0\n",
      "x_(9312,_'D',_4) = 1.0\n",
      "x_(9312,_'E',_1) = 0.0\n",
      "x_(9312,_'E',_2) = 1.0\n",
      "x_(9312,_'E',_3) = 0.0\n",
      "x_(9312,_'E',_4) = 1.0\n",
      "y_(16,_'A',_1) = 0.0\n",
      "y_(16,_'A',_2) = 0.0\n",
      "y_(16,_'A',_3) = 0.0\n",
      "y_(16,_'A',_4) = 0.0\n",
      "y_(16,_'B',_1) = 0.0\n",
      "y_(16,_'B',_2) = 0.0\n",
      "y_(16,_'B',_3) = 0.0\n",
      "y_(16,_'B',_4) = 0.0\n",
      "y_(16,_'C',_1) = 0.0\n",
      "y_(16,_'C',_2) = 0.0\n",
      "y_(16,_'C',_3) = 0.0\n",
      "y_(16,_'C',_4) = 0.0\n",
      "y_(16,_'D',_1) = 0.0\n",
      "y_(16,_'D',_2) = 0.0\n",
      "y_(16,_'D',_3) = 0.0\n",
      "y_(16,_'D',_4) = 0.0\n",
      "y_(16,_'E',_1) = 0.0\n",
      "y_(16,_'E',_2) = 0.0\n",
      "y_(16,_'E',_3) = 0.0\n",
      "y_(16,_'E',_4) = 0.0\n",
      "y_(16449,_'A',_1) = 0.0\n",
      "y_(16449,_'A',_2) = 0.0\n",
      "y_(16449,_'A',_3) = 0.0\n",
      "y_(16449,_'A',_4) = 0.0\n",
      "y_(16449,_'B',_1) = 0.0\n",
      "y_(16449,_'B',_2) = 0.0\n",
      "y_(16449,_'B',_3) = 0.0\n",
      "y_(16449,_'B',_4) = 0.0\n",
      "y_(16449,_'C',_1) = 0.0\n",
      "y_(16449,_'C',_2) = 0.0\n",
      "y_(16449,_'C',_3) = 0.0\n",
      "y_(16449,_'C',_4) = 0.0\n",
      "y_(16449,_'D',_1) = 0.0\n",
      "y_(16449,_'D',_2) = 0.0\n",
      "y_(16449,_'D',_3) = 0.0\n",
      "y_(16449,_'D',_4) = 0.0\n",
      "y_(16449,_'E',_1) = 0.0\n",
      "y_(16449,_'E',_2) = 0.0\n",
      "y_(16449,_'E',_3) = 0.0\n",
      "y_(16449,_'E',_4) = 0.0\n",
      "y_(23738,_'A',_1) = 0.0\n",
      "y_(23738,_'A',_2) = 0.0\n",
      "y_(23738,_'A',_3) = 0.0\n",
      "y_(23738,_'A',_4) = 0.0\n",
      "y_(23738,_'B',_1) = 0.0\n",
      "y_(23738,_'B',_2) = 0.0\n",
      "y_(23738,_'B',_3) = 0.0\n",
      "y_(23738,_'B',_4) = 0.0\n",
      "y_(23738,_'C',_1) = 0.0\n",
      "y_(23738,_'C',_2) = 0.0\n",
      "y_(23738,_'C',_3) = 0.0\n",
      "y_(23738,_'C',_4) = 0.0\n",
      "y_(23738,_'D',_1) = 0.0\n",
      "y_(23738,_'D',_2) = 0.0\n",
      "y_(23738,_'D',_3) = 0.0\n",
      "y_(23738,_'D',_4) = 0.0\n",
      "y_(23738,_'E',_1) = 0.0\n",
      "y_(23738,_'E',_2) = 0.0\n",
      "y_(23738,_'E',_3) = 0.0\n",
      "y_(23738,_'E',_4) = 0.0\n",
      "y_(27243,_'A',_1) = 0.0\n",
      "y_(27243,_'A',_2) = 0.0\n",
      "y_(27243,_'A',_3) = 0.0\n",
      "y_(27243,_'A',_4) = 0.0\n",
      "y_(27243,_'B',_1) = 0.0\n",
      "y_(27243,_'B',_2) = 0.0\n",
      "y_(27243,_'B',_3) = 0.0\n",
      "y_(27243,_'B',_4) = 0.0\n",
      "y_(27243,_'C',_1) = 0.0\n",
      "y_(27243,_'C',_2) = 0.0\n",
      "y_(27243,_'C',_3) = 0.0\n",
      "y_(27243,_'C',_4) = 0.0\n",
      "y_(27243,_'D',_1) = 0.0\n",
      "y_(27243,_'D',_2) = 0.0\n",
      "y_(27243,_'D',_3) = 0.0\n",
      "y_(27243,_'D',_4) = 0.0\n",
      "y_(27243,_'E',_1) = 0.0\n",
      "y_(27243,_'E',_2) = 0.0\n",
      "y_(27243,_'E',_3) = 0.0\n",
      "y_(27243,_'E',_4) = 0.0\n",
      "y_(9312,_'A',_1) = 0.0\n",
      "y_(9312,_'A',_2) = 0.0\n",
      "y_(9312,_'A',_3) = 0.0\n",
      "y_(9312,_'A',_4) = 0.0\n",
      "y_(9312,_'B',_1) = 0.0\n",
      "y_(9312,_'B',_2) = 0.0\n",
      "y_(9312,_'B',_3) = 0.0\n",
      "y_(9312,_'B',_4) = 0.0\n",
      "y_(9312,_'C',_1) = 0.0\n",
      "y_(9312,_'C',_2) = 0.0\n",
      "y_(9312,_'C',_3) = 0.0\n",
      "y_(9312,_'C',_4) = 0.0\n",
      "y_(9312,_'D',_1) = 0.0\n",
      "y_(9312,_'D',_2) = 0.0\n",
      "y_(9312,_'D',_3) = 0.0\n",
      "y_(9312,_'D',_4) = 0.0\n",
      "y_(9312,_'E',_1) = 0.0\n",
      "y_(9312,_'E',_2) = 0.0\n",
      "y_(9312,_'E',_3) = 0.0\n",
      "y_(9312,_'E',_4) = 0.0\n",
      "Total Expected Cost = -96722.7604875\n"
     ]
    }
   ],
   "source": [
    "# Step 1: Import PuLP\n",
    "from pulp import LpProblem, LpMinimize, LpVariable, lpSum\n",
    "\n",
    "# Assumed that the data from the dataframe is available in a suitable format\n",
    "# For the purpose of this example, we will use dummy data structures\n",
    "\n",
    "# Step 2: Define the data structures (dummy structures, replace with actual data)\n",
    "transactions = [16, 9312, 16449, 23738, 27243]  # T\n",
    "banks = ['A', 'B', 'C', 'D', 'E']  # Bk\n",
    "priority_levels = [1, 2, 3, 4]  # P\n",
    "fixed_costs = {1: 40, 2: 60, 3: 100, 4: 150}  # F_p\n",
    "priority_multipliers = {1: 0.25, 2: 0.5, 3: 1, 4: 2}  # k_p\n",
    "amounts = {16: 10427.6474, 9312: 300.0, 16449: 500.0, 23738: 250.0, 27243: 250.0}  # A_i\n",
    "customer_prob = 0.49  # customer_prob_i\n",
    "w1 = w2 = 0.5  # initial weights\n",
    "\n",
    "# Step 3: Initialize the LP problem\n",
    "lp_prob = LpProblem(\"Bank_Investigation_Problem\", LpMinimize)\n",
    "\n",
    "# Step 4: Add decision variables\n",
    "x = LpVariable.dicts(\"x\", ((i, j, p) for i in transactions for j in banks for p in priority_levels),\n",
    "                     cat='Binary')\n",
    "y = LpVariable.dicts(\"y\", ((i, j, p) for i in transactions for j in banks for p in priority_levels),\n",
    "                     cat='Binary')\n",
    "\n",
    "# Step 5: Calculate Pr_i\n",
    "Pr = {i: customer_prob * w1 + customer_prob * w2 for i in transactions}  # Modify as per actual formula\n",
    "\n",
    "# Step 6: Construct the objective function\n",
    "objective_function = lpSum([(1 - x[i, j, p]) * amounts[i] * priority_multipliers[p] * Pr[i] +\n",
    "                            y[i, j, p] * fixed_costs[p] -\n",
    "                            x[i, j, p] * amounts[i] * priority_multipliers[p] * Pr[i]\n",
    "                            for i in transactions for j in banks for p in priority_levels])\n",
    "lp_prob += objective_function\n",
    "\n",
    "# Step 7: Add constraints\n",
    "\n",
    "# Bank Capacity Constraints\n",
    "for bank in banks:\n",
    "    lp_prob += (lpSum([0.25 * x[i, bank, 1] + 0.5 * x[i, bank, 2] + x[i, bank, 3] + 2 * x[i, bank, 4]\n",
    "                       for i in transactions]) <= 10, f\"Capacity_Constraint_{bank}\")\n",
    "\n",
    "# Shared Resource Constraints (not applicable with the given data)\n",
    "\n",
    "# External Investigator Constraints\n",
    "for i in transactions:\n",
    "    for j in banks:\n",
    "        for p in priority_levels:\n",
    "            lp_prob += (x[i, j, p] + y[i, j, p] <= 1, f\"External_Investigator_Constraint_{i}_{j}_{p}\")\n",
    "\n",
    "# Step 8: Solve the LP problem\n",
    "lp_prob.solve()\n",
    "\n",
    "# The values of the decision variables can be printed out as follows\n",
    "for v in lp_prob.variables():\n",
    "    print(v.name, \"=\", v.varValue)\n",
    "\n",
    "# The minimal cost is:\n",
    "print(\"Total Expected Cost =\", lp_prob.objective.value())\n"
   ],
   "metadata": {
    "collapsed": false,
    "ExecuteTime": {
     "end_time": "2023-11-06T15:42:24.965828Z",
     "start_time": "2023-11-06T15:42:24.882459Z"
    }
   },
   "id": "36c741051be9099d"
  },
  {
   "cell_type": "code",
   "execution_count": null,
   "outputs": [],
   "source": [],
   "metadata": {
    "collapsed": false
   },
   "id": "1430c77bab106dd2"
  }
 ],
 "metadata": {
  "kernelspec": {
   "display_name": "Python 3",
   "language": "python",
   "name": "python3"
  },
  "language_info": {
   "codemirror_mode": {
    "name": "ipython",
    "version": 2
   },
   "file_extension": ".py",
   "mimetype": "text/x-python",
   "name": "python",
   "nbconvert_exporter": "python",
   "pygments_lexer": "ipython2",
   "version": "2.7.6"
  }
 },
 "nbformat": 4,
 "nbformat_minor": 5
}
