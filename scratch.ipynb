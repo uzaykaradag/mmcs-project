{
 "cells": [
  {
   "cell_type": "code",
   "execution_count": 1,
   "id": "7c841cdc6b9ab3cf",
   "metadata": {
    "collapsed": true,
    "ExecuteTime": {
     "end_time": "2023-11-21T12:27:36.498978Z",
     "start_time": "2023-11-21T12:27:35.911890Z"
    }
   },
   "outputs": [],
   "source": [
    "import pandas as pd"
   ]
  },
  {
   "cell_type": "code",
   "execution_count": 3,
   "outputs": [],
   "source": [
    "cb = pd.read_excel('Data/231013_Customer_Base.xlsx')\n",
    "ti = pd.read_excel('Data/231013_Transactions_Input.xlsx')"
   ],
   "metadata": {
    "collapsed": false,
    "ExecuteTime": {
     "end_time": "2023-11-21T12:28:33.489724Z",
     "start_time": "2023-11-21T12:28:12.933587Z"
    }
   },
   "id": "164c668d392e9068"
  },
  {
   "cell_type": "code",
   "execution_count": 4,
   "outputs": [],
   "source": [
    "transactions_all = pd.merge(cb, ti, on='customer_id')"
   ],
   "metadata": {
    "collapsed": false,
    "ExecuteTime": {
     "end_time": "2023-11-21T12:29:52.790153Z",
     "start_time": "2023-11-21T12:29:52.726230Z"
    }
   },
   "id": "d2552d6c5dbd68c2"
  },
  {
   "cell_type": "code",
   "execution_count": 5,
   "outputs": [],
   "source": [
    "transactions_all.columns = map(str.lower, transactions_all.columns)\n",
    "transactions_all['date'] = pd.to_datetime(transactions_all['date'])"
   ],
   "metadata": {
    "collapsed": false,
    "ExecuteTime": {
     "end_time": "2023-11-21T12:29:53.635533Z",
     "start_time": "2023-11-21T12:29:53.628451Z"
    }
   },
   "id": "2f406cf088a8f2fc"
  },
  {
   "cell_type": "code",
   "execution_count": 6,
   "outputs": [],
   "source": [
    "frauds = pd.read_excel('data/231013_Fraud_Cases.xlsx')\n",
    "frauds.columns = map(str.lower, frauds.columns)"
   ],
   "metadata": {
    "collapsed": false,
    "ExecuteTime": {
     "end_time": "2023-11-21T12:30:11.000697Z",
     "start_time": "2023-11-21T12:30:10.933017Z"
    }
   },
   "id": "e19476950172f0c2"
  },
  {
   "cell_type": "code",
   "execution_count": 12,
   "outputs": [],
   "source": [
    "transactions = transactions_all.loc[(transactions_all['in_or_out'] == 'paid_out') & (transactions_all['category'] != 'Cash Withdrawal')]"
   ],
   "metadata": {
    "collapsed": false,
    "ExecuteTime": {
     "end_time": "2023-11-21T12:32:48.237795Z",
     "start_time": "2023-11-21T12:32:48.202524Z"
    }
   },
   "id": "8dc1ded784a4d221"
  },
  {
   "cell_type": "code",
   "execution_count": 13,
   "outputs": [
    {
     "data": {
      "text/plain": "array(['bank_E', 'bank_D', 'bank_C', 'bank_A', 'bank_B'], dtype=object)"
     },
     "execution_count": 13,
     "metadata": {},
     "output_type": "execute_result"
    }
   ],
   "source": [
    "transactions['bank_from'].unique()"
   ],
   "metadata": {
    "collapsed": false,
    "ExecuteTime": {
     "end_time": "2023-11-21T12:32:50.304037Z",
     "start_time": "2023-11-21T12:32:50.298798Z"
    }
   },
   "id": "1a0dd14bb4e7d881"
  },
  {
   "cell_type": "code",
   "execution_count": 14,
   "outputs": [
    {
     "data": {
      "text/plain": "   customer_id home_bank  customer_prob  transaction_id  \\\n0        10298    bank_E           0.49               2   \n1        10298    bank_E           0.49               3   \n3        10298    bank_E           0.49              33   \n4        10298    bank_E           0.49            2869   \n6        10298    bank_E           0.49            2871   \n\n                              description   amount         category  \\\n0  Online Retailer - Electronics Purchase   199.99  Online Shopping   \n1    Utilities Payment - Internet Service    60.00        Utilities   \n3                            Rent Payment  1200.00          Housing   \n4  Phone Bill Payment - Wireless Provider    70.00        Utilities   \n6             Gas Station - Fuel Purchase    40.75   Transportation   \n\n        date    month      type in_or_out bank_to bank_from  transac_prob  \\\n0 2023-10-01  October  spending  paid_out  bank_A    bank_E          0.78   \n1 2023-10-01  October  spending  paid_out  bank_C    bank_E          0.30   \n3 2023-10-01  October  spending  paid_out  bank_E    bank_E          0.65   \n4 2023-10-02  October  spending  paid_out  bank_A    bank_E          0.48   \n6 2023-10-02  October  spending  paid_out  bank_E    bank_E          0.12   \n\n   description_prob  priority  \n0              0.25         3  \n1              0.22         1  \n3              0.62         3  \n4              0.34         1  \n6              0.28         1  ",
      "text/html": "<div>\n<style scoped>\n    .dataframe tbody tr th:only-of-type {\n        vertical-align: middle;\n    }\n\n    .dataframe tbody tr th {\n        vertical-align: top;\n    }\n\n    .dataframe thead th {\n        text-align: right;\n    }\n</style>\n<table border=\"1\" class=\"dataframe\">\n  <thead>\n    <tr style=\"text-align: right;\">\n      <th></th>\n      <th>customer_id</th>\n      <th>home_bank</th>\n      <th>customer_prob</th>\n      <th>transaction_id</th>\n      <th>description</th>\n      <th>amount</th>\n      <th>category</th>\n      <th>date</th>\n      <th>month</th>\n      <th>type</th>\n      <th>in_or_out</th>\n      <th>bank_to</th>\n      <th>bank_from</th>\n      <th>transac_prob</th>\n      <th>description_prob</th>\n      <th>priority</th>\n    </tr>\n  </thead>\n  <tbody>\n    <tr>\n      <th>0</th>\n      <td>10298</td>\n      <td>bank_E</td>\n      <td>0.49</td>\n      <td>2</td>\n      <td>Online Retailer - Electronics Purchase</td>\n      <td>199.99</td>\n      <td>Online Shopping</td>\n      <td>2023-10-01</td>\n      <td>October</td>\n      <td>spending</td>\n      <td>paid_out</td>\n      <td>bank_A</td>\n      <td>bank_E</td>\n      <td>0.78</td>\n      <td>0.25</td>\n      <td>3</td>\n    </tr>\n    <tr>\n      <th>1</th>\n      <td>10298</td>\n      <td>bank_E</td>\n      <td>0.49</td>\n      <td>3</td>\n      <td>Utilities Payment - Internet Service</td>\n      <td>60.00</td>\n      <td>Utilities</td>\n      <td>2023-10-01</td>\n      <td>October</td>\n      <td>spending</td>\n      <td>paid_out</td>\n      <td>bank_C</td>\n      <td>bank_E</td>\n      <td>0.30</td>\n      <td>0.22</td>\n      <td>1</td>\n    </tr>\n    <tr>\n      <th>3</th>\n      <td>10298</td>\n      <td>bank_E</td>\n      <td>0.49</td>\n      <td>33</td>\n      <td>Rent Payment</td>\n      <td>1200.00</td>\n      <td>Housing</td>\n      <td>2023-10-01</td>\n      <td>October</td>\n      <td>spending</td>\n      <td>paid_out</td>\n      <td>bank_E</td>\n      <td>bank_E</td>\n      <td>0.65</td>\n      <td>0.62</td>\n      <td>3</td>\n    </tr>\n    <tr>\n      <th>4</th>\n      <td>10298</td>\n      <td>bank_E</td>\n      <td>0.49</td>\n      <td>2869</td>\n      <td>Phone Bill Payment - Wireless Provider</td>\n      <td>70.00</td>\n      <td>Utilities</td>\n      <td>2023-10-02</td>\n      <td>October</td>\n      <td>spending</td>\n      <td>paid_out</td>\n      <td>bank_A</td>\n      <td>bank_E</td>\n      <td>0.48</td>\n      <td>0.34</td>\n      <td>1</td>\n    </tr>\n    <tr>\n      <th>6</th>\n      <td>10298</td>\n      <td>bank_E</td>\n      <td>0.49</td>\n      <td>2871</td>\n      <td>Gas Station - Fuel Purchase</td>\n      <td>40.75</td>\n      <td>Transportation</td>\n      <td>2023-10-02</td>\n      <td>October</td>\n      <td>spending</td>\n      <td>paid_out</td>\n      <td>bank_E</td>\n      <td>bank_E</td>\n      <td>0.12</td>\n      <td>0.28</td>\n      <td>1</td>\n    </tr>\n  </tbody>\n</table>\n</div>"
     },
     "execution_count": 14,
     "metadata": {},
     "output_type": "execute_result"
    }
   ],
   "source": [
    "transactions"
   ],
   "metadata": {
    "collapsed": false,
    "ExecuteTime": {
     "end_time": "2023-11-21T12:32:54.657695Z",
     "start_time": "2023-11-21T12:32:54.654392Z"
    }
   },
   "id": "90504957bfc34d82"
  },
  {
   "cell_type": "code",
   "execution_count": 53,
   "outputs": [],
   "source": [
    "days = list(transactions['date'].unique())\n",
    "transactions_d1 = transactions[transactions['date'] == days[1]]"
   ],
   "metadata": {
    "collapsed": false,
    "ExecuteTime": {
     "start_time": "2023-11-17T13:41:06.179981Z"
    }
   },
   "id": "9e3af468b2dc5b9a"
  },
  {
   "cell_type": "code",
   "execution_count": 57,
   "outputs": [
    {
     "data": {
      "text/plain": "1323"
     },
     "execution_count": 57,
     "metadata": {},
     "output_type": "execute_result"
    }
   ],
   "source": [
    "transaction_ids = list(transactions_d1.index)\n",
    "len(transaction_ids)"
   ],
   "metadata": {
    "collapsed": false,
    "ExecuteTime": {
     "end_time": "2023-11-17T13:49:44.945792Z",
     "start_time": "2023-11-17T13:49:44.940126Z"
    }
   },
   "id": "a95d81493ed25d5a"
  },
  {
   "cell_type": "markdown",
   "source": [
    "## The Model"
   ],
   "metadata": {
    "collapsed": false
   },
   "id": "90fd1c6f2ed27e7e"
  },
  {
   "cell_type": "code",
   "execution_count": 70,
   "outputs": [],
   "source": [
    "# List containing banks from A to E\n",
    "banks = transactions['bank_from'].unique()\n",
    "\n",
    "# Dictionary denoting the internal investigator team size for each bank\n",
    "team_size = {\n",
    "    'bank_A' : 8,\n",
    "    'bank_B' : 12,\n",
    "    'bank_C' : 10,\n",
    "    'bank_D' : 10,\n",
    "    'bank_E' : 10,\n",
    "}\n",
    "\n",
    "# Dictionary denoting the fixed cost for hiring an external investigator for each priority level\n",
    "hire_cost = {\n",
    "    1 : 40,\n",
    "    2 : 60,\n",
    "    3 : 100,\n",
    "    4 : 150\n",
    "}\n",
    "\n",
    "investigation_count = {\n",
    "    1 : 0.25,\n",
    "    2 : 0.5,\n",
    "    3 : 1,\n",
    "    4 : 2,\n",
    "}"
   ],
   "metadata": {
    "collapsed": false,
    "ExecuteTime": {
     "end_time": "2023-11-17T14:15:40.175242Z",
     "start_time": "2023-11-17T14:15:40.170850Z"
    }
   },
   "id": "3e4a881d7bb3d5a7"
  },
  {
   "cell_type": "code",
   "execution_count": 76,
   "outputs": [],
   "source": [
    "def solve_for_day(transactions, w1=0.33, w2=0.33, w3=0.33):    \n",
    "\n",
    "    # Decision Variables\n",
    "    xi = LpVariable.dicts(\"x\", transactions.index, 0, 1, LpBinary)\n",
    "    yi = LpVariable.dicts(\"y\", transactions.index, 0, 1, LpBinary)\n",
    "    \n",
    "    # Initialize the problem\n",
    "    prob = LpProblem(\"Minimize_Cost\", LpMinimize)\n",
    "    \n",
    "    # Objective Function\n",
    "    def calculate_objective(row):\n",
    "        Pr_i = w1 * row['customer_prob'] + w2 * row['transac_prob'] + w3 * row['description_prob']\n",
    "        F_i = hire_cost[row['priority']]\n",
    "        k_i = investigation_count[row['priority']]\n",
    "        return (1 - xi[row.name]) * row['amount'] * k_i * Pr_i + yi[row.name] * F_i - xi[row.name] * row['amount'] * k_i * Pr_i\n",
    "    \n",
    "    Z = lpSum(transactions.apply(calculate_objective, axis=1))\n",
    "    \n",
    "    prob += Z\n",
    "    \n",
    "    # Constraints\n",
    "    \n",
    "    # Capacity Constraint for each bank\n",
    "    for bank in banks:\n",
    "        T_j = transactions[transactions['bank_from'] == bank].index\n",
    "        prob += lpSum([xi[i] for i in T_j]) <= team_size[bank]\n",
    "    \n",
    "    # Investigator Constraint for each transaction\n",
    "    for i in transactions.index:\n",
    "        prob += xi[i] + yi[i] <= 1\n",
    "    \n",
    "    # Solve the problem\n",
    "    prob.solve()\n",
    "    \n",
    "    # Find the transaction id's for the investigated transactions\n",
    "    internally_investigated, externally_investigated = [], []\n",
    "    for i in transactions.index:\n",
    "        if xi[i].varValue == 1:\n",
    "            internally_investigated.append(i)\n",
    "        elif yi[i].varValue == 1:\n",
    "            externally_investigated.append(i)\n",
    "            \n",
    "    return internally_investigated, externally_investigated"
   ],
   "metadata": {
    "collapsed": false,
    "ExecuteTime": {
     "end_time": "2023-11-17T14:20:45.828239Z",
     "start_time": "2023-11-17T14:20:45.815582Z"
    }
   },
   "id": "b80f7bf2c34b3fc2"
  },
  {
   "cell_type": "code",
   "execution_count": 82,
   "outputs": [
    {
     "name": "stdout",
     "output_type": "stream",
     "text": [
      "Welcome to the CBC MILP Solver \n",
      "Version: 2.10.3 \n",
      "Build Date: Dec 15 2019 \n",
      "\n",
      "command line - /Library/Frameworks/Python.framework/Versions/3.12/lib/python3.12/site-packages/pulp/solverdir/cbc/osx/64/cbc /var/folders/_g/3jdpr0d14q1g62hkp6vf5mlh0000gn/T/79259bfee1c64b52a554ab9ebcc9e512-pulp.mps timeMode elapsed branch printingOptions all solution /var/folders/_g/3jdpr0d14q1g62hkp6vf5mlh0000gn/T/79259bfee1c64b52a554ab9ebcc9e512-pulp.sol (default strategy 1)\n",
      "At line 2 NAME          MODEL\n",
      "At line 3 ROWS\n",
      "At line 1333 COLUMNS\n",
      "At line 13241 RHS\n",
      "At line 14570 BOUNDS\n",
      "At line 17217 ENDATA\n",
      "Problem MODEL has 1328 rows, 2646 columns and 3969 elements\n",
      "Coin0008I MODEL read with 0 errors\n",
      "Option for timeMode changed from cpu to elapsed\n",
      "Continuous objective value is -6020.97 - 0.00 seconds\n",
      "Cgl0004I processed model has 5 rows, 1323 columns (1323 integer (1323 of which binary)) and 1323 elements\n",
      "Cbc0038I Initial state - 0 integers unsatisfied sum - 0\n",
      "Cbc0038I Solution found of -6020.97\n",
      "Cbc0038I Before mini branch and bound, 1323 integers at bound fixed and 0 continuous\n",
      "Cbc0038I Mini branch and bound did not improve solution (0.02 seconds)\n",
      "Cbc0038I After 0.02 seconds - Feasibility pump exiting with objective of -6020.97 - took 0.00 seconds\n",
      "Cbc0012I Integer solution of -6020.9698 found by feasibility pump after 0 iterations and 0 nodes (0.02 seconds)\n",
      "Cbc0001I Search completed - best objective -6020.969824239999, took 0 iterations and 0 nodes (0.02 seconds)\n",
      "Cbc0035I Maximum depth 0, 0 variables fixed on reduced cost\n",
      "Cuts at root node changed objective from -6020.97 to -6020.97\n",
      "Probing was tried 0 times and created 0 cuts of which 0 were active after adding rounds of cuts (0.000 seconds)\n",
      "Gomory was tried 0 times and created 0 cuts of which 0 were active after adding rounds of cuts (0.000 seconds)\n",
      "Knapsack was tried 0 times and created 0 cuts of which 0 were active after adding rounds of cuts (0.000 seconds)\n",
      "Clique was tried 0 times and created 0 cuts of which 0 were active after adding rounds of cuts (0.000 seconds)\n",
      "MixedIntegerRounding2 was tried 0 times and created 0 cuts of which 0 were active after adding rounds of cuts (0.000 seconds)\n",
      "FlowCover was tried 0 times and created 0 cuts of which 0 were active after adding rounds of cuts (0.000 seconds)\n",
      "TwoMirCuts was tried 0 times and created 0 cuts of which 0 were active after adding rounds of cuts (0.000 seconds)\n",
      "ZeroHalf was tried 0 times and created 0 cuts of which 0 were active after adding rounds of cuts (0.000 seconds)\n",
      "\n",
      "Result - Optimal solution found\n",
      "\n",
      "Objective value:                -6020.96982424\n",
      "Enumerated nodes:               0\n",
      "Total iterations:               0\n",
      "Time (CPU seconds):             0.02\n",
      "Time (Wallclock seconds):       0.02\n",
      "\n",
      "Option for printingOptions changed from normal to all\n",
      "Total time (CPU seconds):       0.03   (Wallclock seconds):       0.03\n"
     ]
    },
    {
     "name": "stderr",
     "output_type": "stream",
     "text": [
      "/var/folders/_g/3jdpr0d14q1g62hkp6vf5mlh0000gn/T/ipykernel_86387/395774376.py:2: SettingWithCopyWarning: \n",
      "A value is trying to be set on a copy of a slice from a DataFrame.\n",
      "Try using .loc[row_indexer,col_indexer] = value instead\n",
      "\n",
      "See the caveats in the documentation: https://pandas.pydata.org/pandas-docs/stable/user_guide/indexing.html#returning-a-view-versus-a-copy\n",
      "  transactions_d1['is_fraud'] = transactions_d1['transaction_id'].isin(frauds['transaction_id']).astype(int)\n"
     ]
    }
   ],
   "source": [
    "ii, ei = solve_for_day(transactions_d1)\n",
    "transactions_d1['is_fraud'] = transactions_d1['transaction_id'].isin(frauds['transaction_id']).astype(int)"
   ],
   "metadata": {
    "collapsed": false,
    "ExecuteTime": {
     "end_time": "2023-11-17T14:23:51.341644Z",
     "start_time": "2023-11-17T14:23:51.208144Z"
    }
   },
   "id": "45f91b79ded853a6"
  },
  {
   "cell_type": "code",
   "execution_count": 83,
   "outputs": [
    {
     "data": {
      "text/plain": "        customer_id home_bank  customer_prob  transaction_id  \\\n10691         15838    bank_E           0.50            3692   \n189803        18942    bank_B           0.83            2544   \n189804        18942    bank_B           0.83            2656   \n200300        10796    bank_E           0.65            2440   \n221448        10672    bank_B           0.71            2655   \n253574        12325    bank_B           0.73            2883   \n\n                                     description  amount       category  \\\n10691                     Traffic Violation Fine  124.15      Utilities   \n189803      Online Gift Purchase for My New Love   69.80  Personal care   \n189804         Neiman Marcus - Designer Shopping   43.40       Shopping   \n200300  ClothesOnline additional posting payment   28.75       Shopping   \n221448               eBay securitng item payment   12.60       Shopping   \n253574  IRS Tax Payment - Urgent Action Required   82.25      Transfers   \n\n             date    month      type in_or_out bank_to bank_from  \\\n10691  2023-10-02  October  spending  paid_out  bank_D    bank_E   \n189803 2023-10-02  October  spending  paid_out  bank_D    bank_B   \n189804 2023-10-02  October  spending  paid_out  bank_D    bank_B   \n200300 2023-10-02  October  spending  paid_out  bank_C    bank_E   \n221448 2023-10-02  October  spending  paid_out  bank_E    bank_B   \n253574 2023-10-02  October  spending  paid_out  bank_B    bank_B   \n\n        transac_prob  description_prob  priority  is_fraud  \n10691           0.68              0.68         2         1  \n189803          0.42              0.63         1         1  \n189804          0.29              0.63         1         1  \n200300          0.37              0.33         1         1  \n221448          0.18              0.47         1         1  \n253574          0.44              0.40         2         1  ",
      "text/html": "<div>\n<style scoped>\n    .dataframe tbody tr th:only-of-type {\n        vertical-align: middle;\n    }\n\n    .dataframe tbody tr th {\n        vertical-align: top;\n    }\n\n    .dataframe thead th {\n        text-align: right;\n    }\n</style>\n<table border=\"1\" class=\"dataframe\">\n  <thead>\n    <tr style=\"text-align: right;\">\n      <th></th>\n      <th>customer_id</th>\n      <th>home_bank</th>\n      <th>customer_prob</th>\n      <th>transaction_id</th>\n      <th>description</th>\n      <th>amount</th>\n      <th>category</th>\n      <th>date</th>\n      <th>month</th>\n      <th>type</th>\n      <th>in_or_out</th>\n      <th>bank_to</th>\n      <th>bank_from</th>\n      <th>transac_prob</th>\n      <th>description_prob</th>\n      <th>priority</th>\n      <th>is_fraud</th>\n    </tr>\n  </thead>\n  <tbody>\n    <tr>\n      <th>10691</th>\n      <td>15838</td>\n      <td>bank_E</td>\n      <td>0.50</td>\n      <td>3692</td>\n      <td>Traffic Violation Fine</td>\n      <td>124.15</td>\n      <td>Utilities</td>\n      <td>2023-10-02</td>\n      <td>October</td>\n      <td>spending</td>\n      <td>paid_out</td>\n      <td>bank_D</td>\n      <td>bank_E</td>\n      <td>0.68</td>\n      <td>0.68</td>\n      <td>2</td>\n      <td>1</td>\n    </tr>\n    <tr>\n      <th>189803</th>\n      <td>18942</td>\n      <td>bank_B</td>\n      <td>0.83</td>\n      <td>2544</td>\n      <td>Online Gift Purchase for My New Love</td>\n      <td>69.80</td>\n      <td>Personal care</td>\n      <td>2023-10-02</td>\n      <td>October</td>\n      <td>spending</td>\n      <td>paid_out</td>\n      <td>bank_D</td>\n      <td>bank_B</td>\n      <td>0.42</td>\n      <td>0.63</td>\n      <td>1</td>\n      <td>1</td>\n    </tr>\n    <tr>\n      <th>189804</th>\n      <td>18942</td>\n      <td>bank_B</td>\n      <td>0.83</td>\n      <td>2656</td>\n      <td>Neiman Marcus - Designer Shopping</td>\n      <td>43.40</td>\n      <td>Shopping</td>\n      <td>2023-10-02</td>\n      <td>October</td>\n      <td>spending</td>\n      <td>paid_out</td>\n      <td>bank_D</td>\n      <td>bank_B</td>\n      <td>0.29</td>\n      <td>0.63</td>\n      <td>1</td>\n      <td>1</td>\n    </tr>\n    <tr>\n      <th>200300</th>\n      <td>10796</td>\n      <td>bank_E</td>\n      <td>0.65</td>\n      <td>2440</td>\n      <td>ClothesOnline additional posting payment</td>\n      <td>28.75</td>\n      <td>Shopping</td>\n      <td>2023-10-02</td>\n      <td>October</td>\n      <td>spending</td>\n      <td>paid_out</td>\n      <td>bank_C</td>\n      <td>bank_E</td>\n      <td>0.37</td>\n      <td>0.33</td>\n      <td>1</td>\n      <td>1</td>\n    </tr>\n    <tr>\n      <th>221448</th>\n      <td>10672</td>\n      <td>bank_B</td>\n      <td>0.71</td>\n      <td>2655</td>\n      <td>eBay securitng item payment</td>\n      <td>12.60</td>\n      <td>Shopping</td>\n      <td>2023-10-02</td>\n      <td>October</td>\n      <td>spending</td>\n      <td>paid_out</td>\n      <td>bank_E</td>\n      <td>bank_B</td>\n      <td>0.18</td>\n      <td>0.47</td>\n      <td>1</td>\n      <td>1</td>\n    </tr>\n    <tr>\n      <th>253574</th>\n      <td>12325</td>\n      <td>bank_B</td>\n      <td>0.73</td>\n      <td>2883</td>\n      <td>IRS Tax Payment - Urgent Action Required</td>\n      <td>82.25</td>\n      <td>Transfers</td>\n      <td>2023-10-02</td>\n      <td>October</td>\n      <td>spending</td>\n      <td>paid_out</td>\n      <td>bank_B</td>\n      <td>bank_B</td>\n      <td>0.44</td>\n      <td>0.40</td>\n      <td>2</td>\n      <td>1</td>\n    </tr>\n  </tbody>\n</table>\n</div>"
     },
     "execution_count": 83,
     "metadata": {},
     "output_type": "execute_result"
    }
   ],
   "source": [
    "transactions_d1[transactions_d1['is_fraud'] == 1]"
   ],
   "metadata": {
    "collapsed": false,
    "ExecuteTime": {
     "end_time": "2023-11-17T14:24:10.562738Z",
     "start_time": "2023-11-17T14:24:10.547133Z"
    }
   },
   "id": "b3397234e30edcdd"
  },
  {
   "cell_type": "markdown",
   "source": [
    "## Constraint for Bank Capacity\n",
    "$\\sum_{i \\isin \\text{Transactions from Bank A} \\text{time it takes for transaction i] * x_i  < 12$"
   ],
   "metadata": {
    "collapsed": false
   },
   "id": "734bd9d6181cf3f0"
  },
  {
   "cell_type": "code",
   "execution_count": null,
   "outputs": [],
   "source": [],
   "metadata": {
    "collapsed": false
   },
   "id": "4842f7226d593847"
  }
 ],
 "metadata": {
  "kernelspec": {
   "display_name": "Python 3",
   "language": "python",
   "name": "python3"
  },
  "language_info": {
   "codemirror_mode": {
    "name": "ipython",
    "version": 2
   },
   "file_extension": ".py",
   "mimetype": "text/x-python",
   "name": "python",
   "nbconvert_exporter": "python",
   "pygments_lexer": "ipython2",
   "version": "2.7.6"
  }
 },
 "nbformat": 4,
 "nbformat_minor": 5
}
