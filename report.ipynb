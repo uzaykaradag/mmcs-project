{
 "cells": [
  {
   "cell_type": "markdown",
   "source": [
    "## MMCS Project | Fraud Detection Model"
   ],
   "metadata": {
    "collapsed": false
   },
   "id": "fd40ab04f693d6fe"
  },
  {
   "cell_type": "code",
   "execution_count": 9,
   "outputs": [],
   "source": [
    "# Import the necessary libraries\n",
    "import pandas as pd\n",
    "from pulp import *\n",
    "from fraud_detection import modelling as md"
   ],
   "metadata": {
    "collapsed": false,
    "ExecuteTime": {
     "end_time": "2023-11-21T19:04:07.559536Z",
     "start_time": "2023-11-21T19:04:07.555559Z"
    }
   },
   "id": "initial_id"
  },
  {
   "cell_type": "code",
   "execution_count": 10,
   "outputs": [],
   "source": [
    "# Loading the data\n",
    "transactions = pd.read_parquet('data/transactions.parquet')\n",
    "frauds = pd.read_parquet('data/frauds.parquet')"
   ],
   "metadata": {
    "collapsed": false,
    "ExecuteTime": {
     "end_time": "2023-11-21T19:04:08.421305Z",
     "start_time": "2023-11-21T19:04:08.306700Z"
    }
   },
   "id": "4b5208f5a6b56a5c"
  },
  {
   "cell_type": "code",
   "execution_count": null,
   "outputs": [],
   "source": [],
   "metadata": {
    "collapsed": false
   },
   "id": "da08968c829fc7ed"
  }
 ],
 "metadata": {
  "kernelspec": {
   "display_name": "Python 3",
   "language": "python",
   "name": "python3"
  },
  "language_info": {
   "codemirror_mode": {
    "name": "ipython",
    "version": 2
   },
   "file_extension": ".py",
   "mimetype": "text/x-python",
   "name": "python",
   "nbconvert_exporter": "python",
   "pygments_lexer": "ipython2",
   "version": "2.7.6"
  }
 },
 "nbformat": 4,
 "nbformat_minor": 5
}
