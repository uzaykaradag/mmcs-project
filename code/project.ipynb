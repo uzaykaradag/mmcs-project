{
 "cells": [
  {
   "cell_type": "markdown",
   "source": [
    "## MMCS Project | Fraud Detection Model"
   ],
   "metadata": {
    "collapsed": false
   },
   "id": "fd40ab04f693d6fe"
  },
  {
   "cell_type": "code",
   "execution_count": 65,
   "outputs": [],
   "source": [
    "# Import the necessary libraries\n",
    "import pandas as pd\n",
    "from pulp import *"
   ],
   "metadata": {
    "collapsed": false,
    "ExecuteTime": {
     "end_time": "2023-11-21T15:29:51.474845Z",
     "start_time": "2023-11-21T15:29:51.468977Z"
    }
   },
   "id": "initial_id"
  },
  {
   "cell_type": "markdown",
   "source": [
    "Load the datasets for the transactions, customers and fraudulent transactions into seperate dataframes"
   ],
   "metadata": {
    "collapsed": false
   },
   "id": "af659a0eb66cc523"
  },
  {
   "cell_type": "code",
   "execution_count": 2,
   "outputs": [],
   "source": [
    "all_transactions = pd.read_excel('Data/transactions.xlsx')\n",
    "customers = pd.read_excel('Data/customers.xlsx')\n",
    "frauds = pd.read_excel('Data/frauds.xlsx')"
   ],
   "metadata": {
    "collapsed": false,
    "ExecuteTime": {
     "end_time": "2023-11-21T12:37:05.579032Z",
     "start_time": "2023-11-21T12:36:45.050623Z"
    }
   },
   "id": "c37d813858f92cae"
  },
  {
   "cell_type": "markdown",
   "source": [
    "Next we join the transaction and customer datasets so that we have the customer information for every transaction."
   ],
   "metadata": {
    "collapsed": false
   },
   "id": "d63771baa37448b8"
  },
  {
   "cell_type": "code",
   "execution_count": 3,
   "outputs": [
    {
     "data": {
      "text/plain": "Index(['transaction_id', 'description', 'Amount', 'category', 'date', 'month',\n       'customer_id', 'type', 'In_or_Out', 'bank_to', 'bank_from',\n       'transac_prob', 'description_prob', 'priority', 'home_bank',\n       'customer_prob'],\n      dtype='object')"
     },
     "execution_count": 3,
     "metadata": {},
     "output_type": "execute_result"
    }
   ],
   "source": [
    "all_transactions = pd.merge(all_transactions, customers, on='customer_id')"
   ],
   "metadata": {
    "collapsed": false,
    "ExecuteTime": {
     "end_time": "2023-11-21T12:41:40.629259Z",
     "start_time": "2023-11-21T12:41:40.567780Z"
    }
   },
   "id": "1dc54738278b0d82"
  },
  {
   "cell_type": "markdown",
   "source": [
    "We cleanup the DataFrame to make it easier to code the forthcoming logic, all we need to investigate is transactions that are paid out and are not cash withdrawals. So we are going to create a filtered dataframe *transations* from the *all_transactions* dataframe."
   ],
   "metadata": {
    "collapsed": false
   },
   "id": "8bef933d8422f380"
  },
  {
   "cell_type": "code",
   "execution_count": 10,
   "outputs": [],
   "source": [
    "all_transactions.columns = map(str.lower, all_transactions.columns)\n",
    "frauds.columns = map(str.lower, frauds.columns)"
   ],
   "metadata": {
    "collapsed": false,
    "ExecuteTime": {
     "end_time": "2023-11-21T12:50:30.689526Z",
     "start_time": "2023-11-21T12:50:30.686755Z"
    }
   },
   "id": "dc6f4b3490015da4"
  },
  {
   "cell_type": "code",
   "execution_count": 11,
   "outputs": [],
   "source": [
    "transactions = all_transactions.loc[(all_transactions['in_or_out'] == 'paid_out') & (all_transactions['category'] != 'Cash Withdrawal')]"
   ],
   "metadata": {
    "collapsed": false,
    "ExecuteTime": {
     "end_time": "2023-11-21T12:50:30.979943Z",
     "start_time": "2023-11-21T12:50:30.960025Z"
    }
   },
   "id": "125bae5880425552"
  },
  {
   "cell_type": "code",
   "execution_count": 61,
   "outputs": [],
   "source": [
    "transactions.set_index('transaction_id', inplace=True)"
   ],
   "metadata": {
    "collapsed": false,
    "ExecuteTime": {
     "end_time": "2023-11-21T14:48:27.465706Z",
     "start_time": "2023-11-21T14:48:27.456120Z"
    }
   },
   "id": "8b29d8ad5ae3226f"
  },
  {
   "cell_type": "markdown",
   "source": [
    "## Building the Initial Model"
   ],
   "metadata": {
    "collapsed": false
   },
   "id": "9a0e7a14cb2ad7ec"
  },
  {
   "cell_type": "code",
   "execution_count": 141,
   "outputs": [],
   "source": [
    "from pulp import *\n",
    "\n",
    "# Global Constants\n",
    "EXTERNAL_INVESTIGATOR_COST = {1: 40, 2: 60, 3: 100, 4: 150}\n",
    "TIME_NEEDED = {1: 0.25, 2: 0.5, 3: 1, 4: 2}\n",
    "INVESTIGATION_TEAM_SIZE = {\"bank_a\": 8, \"bank_b\": 12, \"bank_c\": 10, \"bank_d\": 10, \"bank_e\": 10}\n",
    "\n",
    "\n",
    "def solve_initial_model(transactions_df, lambda_c, lambda_d, daily_budget):\n",
    "    \"\"\"\n",
    "    Solves an optimization problem to maximize the expected value saved from fraud investigations.\n",
    "\n",
    "    Parameters:\n",
    "    - transactions_df (pd.DataFrame): DataFrame containing transaction details.\n",
    "    - lambda_c (dict): Dictionary mapping categories to their respective investigation limits.\n",
    "    - lambda_d (dict): Dictionary mapping descriptions to their respective investigation limits.\n",
    "    - daily_budget (float): Budget available for external investigations.\n",
    "\n",
    "    Returns:\n",
    "    Tuple (list, list, float): Returns a tuple containing lists of transactions selected for\n",
    "    internal and external investigations, and the expected value saved.\n",
    "    \"\"\"\n",
    "    # Calculating combined probability, cost, and time for each transaction\n",
    "    amount = transactions_df[\"amount\"]\n",
    "    prob = 0.5 * transactions_df[\"customer_prob\"] + 0.3 * transactions_df[\"description_prob\"] + 0.2 * transactions_df[\n",
    "        \"transac_prob\"]\n",
    "    cost = transactions_df[\"priority\"].map(EXTERNAL_INVESTIGATOR_COST)\n",
    "    investigation_time = transactions_df[\"priority\"].map(TIME_NEEDED)\n",
    "\n",
    "    # Initialize the linear programming model\n",
    "    model = LpProblem(\"Fraud_Investigation\", LpMaximize)\n",
    "\n",
    "    # Define decision variables for internal (x), external (y), and team assignments (z)\n",
    "    internally_investigate = LpVariable.dicts(\"x\", transactions_df.index, cat=\"Binary\")\n",
    "    externally_investigate = LpVariable.dicts(\"y\", transactions_df.index, cat=\"Binary\")\n",
    "    investigated_by_bank = LpVariable.dicts(\"z\", [(b, i) for b in INVESTIGATION_TEAM_SIZE.keys() for i in transactions_df.index],\n",
    "                                            cat=\"Binary\")\n",
    "\n",
    "    # Define the objective function\n",
    "    model += lpSum([amount[i] * prob[i] * (internally_investigate[i] + externally_investigate[i]) - cost[i] * externally_investigate[i] for i in transactions_df.index])\n",
    "\n",
    "    # Add constraints to the model\n",
    "    # 1. Investigation Exclusivity Constraint\n",
    "    for i in transactions_df.index:\n",
    "        model += internally_investigate[i] + externally_investigate[i] <= 1\n",
    "\n",
    "    # 2. Bank Capacity Constraints for Internal Investigation\n",
    "    for b in INVESTIGATION_TEAM_SIZE:\n",
    "        model += lpSum([investigation_time[i] * investigated_by_bank[(b, i)] for i in transactions_df.index]) <= INVESTIGATION_TEAM_SIZE[b]\n",
    "\n",
    "    # 3. Bank Investigation Assignment Constraint\n",
    "    for i in transactions_df.index:\n",
    "        model += lpSum([investigated_by_bank[(b, i)] for b in INVESTIGATION_TEAM_SIZE]) == internally_investigate[i]\n",
    "\n",
    "    # 4. Budget Constraint for External Investigation\n",
    "    model += lpSum([externally_investigate[i] * cost[i] for i in transactions_df.index]) <= daily_budget\n",
    "\n",
    "    # 5. Variable Investigation per Category Ratio Constraint\n",
    "    for c in lambda_c:\n",
    "        I_c = transactions_df[transactions_df[\"category\"] == c].index\n",
    "        model += lpSum([internally_investigate[i] + externally_investigate[i] for i in I_c]) <= lambda_c[c] * lpSum([internally_investigate[i] + externally_investigate[i] for i in transactions_df.index])\n",
    "\n",
    "    for d in lambda_d:\n",
    "        I_d = transactions_df[transactions_df[\"description\"].str.contains(d)].index\n",
    "        model += lpSum([internally_investigate[i] + externally_investigate[i] for i in I_d]) <= lambda_d[d] * lpSum([internally_investigate[i] + externally_investigate[i] for i in transactions_df.index])\n",
    "\n",
    "    # Solve the model and extract results\n",
    "    model.solve()\n",
    "    internally_investigated = [i for i in transactions_df.index if internally_investigate[i].varValue == 1]\n",
    "    externally_investigated = [i for i in transactions_df.index if externally_investigate[i].varValue == 1]\n",
    "    expected_value_saved = pulp.value(model.objective)  # Corrected line\n",
    "\n",
    "    return internally_investigated, externally_investigated, expected_value_saved"
   ],
   "metadata": {
    "collapsed": false,
    "ExecuteTime": {
     "end_time": "2023-11-21T18:07:19.040194Z",
     "start_time": "2023-11-21T18:07:19.035396Z"
    }
   },
   "id": "281e57f724f345f5"
  },
  {
   "cell_type": "code",
   "execution_count": 151,
   "outputs": [
    {
     "name": "stdout",
     "output_type": "stream",
     "text": [
      "Welcome to the CBC MILP Solver \n",
      "Version: 2.10.3 \n",
      "Build Date: Dec 15 2019 \n",
      "\n",
      "command line - /Users/uzaykaradag/.pyenv/versions/3.12.0/lib/python3.12/site-packages/pulp/solverdir/cbc/osx/64/cbc /var/folders/_g/3jdpr0d14q1g62hkp6vf5mlh0000gn/T/903175befccb458f8e1ce729c2d329f8-pulp.mps max timeMode elapsed branch printingOptions all solution /var/folders/_g/3jdpr0d14q1g62hkp6vf5mlh0000gn/T/903175befccb458f8e1ce729c2d329f8-pulp.sol (default strategy 1)\n",
      "At line 2 NAME          MODEL\n",
      "At line 3 ROWS\n",
      "At line 2281 COLUMNS\n",
      "At line 49826 RHS\n",
      "At line 52103 BOUNDS\n",
      "At line 60028 ENDATA\n",
      "Problem MODEL has 2276 rows, 7924 columns and 29432 elements\n",
      "Coin0008I MODEL read with 0 errors\n",
      "Option for timeMode changed from cpu to elapsed\n",
      "Continuous objective value is 14127.7 - 0.09 seconds\n",
      "Cgl0004I processed model has 2272 rows, 7924 columns (7924 integer (7924 of which binary)) and 20376 elements\n",
      "Cbc0038I Initial state - 9 integers unsatisfied sum - 1.7\n",
      "Cbc0038I Pass   1: suminf.    1.00000 (4) obj. -14104.9 iterations 429\n",
      "Cbc0038I Pass   2: suminf.    1.00000 (2) obj. -14052.5 iterations 297\n",
      "Cbc0038I Solution found of -14052.5\n",
      "Cbc0038I Before mini branch and bound, 7911 integers at bound fixed and 0 continuous\n",
      "Cbc0038I Full problem 2272 rows 7924 columns, reduced to 0 rows 0 columns\n",
      "Cbc0038I Mini branch and bound improved solution from -14052.5 to -14082.6 (0.24 seconds)\n",
      "Cbc0038I Round again with cutoff of -14087.1\n",
      "Cbc0038I Reduced cost fixing fixed 189 variables on major pass 2\n",
      "Cbc0038I Pass   3: suminf.    1.00000 (4) obj. -14104.9 iterations 0\n",
      "Cbc0038I Pass   4: suminf.    1.66558 (4) obj. -14087.1 iterations 596\n",
      "Cbc0038I Pass   5: suminf.    0.66558 (3) obj. -14087.1 iterations 343\n",
      "Cbc0038I Pass   6: suminf.    0.66558 (3) obj. -14087.1 iterations 248\n",
      "Cbc0038I Pass   7: suminf.    1.00000 (3) obj. -14104.4 iterations 135\n",
      "Cbc0038I Pass   8: suminf.    0.66558 (3) obj. -14087.1 iterations 97\n",
      "Cbc0038I Pass   9: suminf.    2.38694 (8) obj. -14087.1 iterations 318\n",
      "Cbc0038I Pass  10: suminf.    1.53287 (5) obj. -14087.1 iterations 454\n",
      "Cbc0038I Pass  11: suminf.    0.53287 (3) obj. -14087.1 iterations 207\n",
      "Cbc0038I Pass  12: suminf.    0.96466 (4) obj. -14087.1 iterations 121\n",
      "Cbc0038I Pass  13: suminf.    3.51287 (11) obj. -14087.1 iterations 366\n",
      "Cbc0038I Pass  14: suminf.    2.84192 (9) obj. -14087.1 iterations 514\n",
      "Cbc0038I Pass  15: suminf.    2.06437 (11) obj. -14087.1 iterations 644\n",
      "Cbc0038I Pass  16: suminf.    2.55766 (6) obj. -14087.1 iterations 550\n",
      "Cbc0038I Pass  17: suminf.    2.21745 (8) obj. -14087.1 iterations 159\n",
      "Cbc0038I Pass  18: suminf.    1.46667 (5) obj. -14087.1 iterations 389\n",
      "Cbc0038I Pass  19: suminf.    1.46667 (5) obj. -14087.1 iterations 74\n",
      "Cbc0038I Pass  20: suminf.    1.00000 (4) obj. -14090.1 iterations 55\n",
      "Cbc0038I Pass  21: suminf.    1.00000 (4) obj. -14087.1 iterations 52\n",
      "Cbc0038I Pass  22: suminf.    2.56000 (9) obj. -14087.1 iterations 489\n",
      "Cbc0038I Pass  23: suminf.    0.87118 (6) obj. -14087.1 iterations 413\n",
      "Cbc0038I Pass  24: suminf.    1.18410 (6) obj. -14087.1 iterations 87\n",
      "Cbc0038I Pass  25: suminf.    1.01526 (5) obj. -14087.1 iterations 70\n",
      "Cbc0038I Pass  26: suminf.    1.46667 (5) obj. -14091.8 iterations 491\n",
      "Cbc0038I Pass  27: suminf.    1.06602 (5) obj. -14087.1 iterations 356\n",
      "Cbc0038I Pass  28: suminf.    1.07433 (5) obj. -14087.1 iterations 84\n",
      "Cbc0038I Pass  29: suminf.    1.05797 (5) obj. -14087.1 iterations 66\n",
      "Cbc0038I Pass  30: suminf.    3.23584 (12) obj. -14087.1 iterations 431\n",
      "Cbc0038I Pass  31: suminf.    1.44619 (4) obj. -14087.1 iterations 283\n",
      "Cbc0038I Pass  32: suminf.    1.46667 (3) obj. -14089.4 iterations 591\n",
      "Cbc0038I No solution found this major pass\n",
      "Cbc0038I Before mini branch and bound, 7780 integers at bound fixed and 0 continuous\n",
      "Cbc0038I Full problem 2272 rows 7924 columns, reduced to 19 rows 71 columns\n",
      "Cbc0038I Mini branch and bound improved solution from -14082.6 to -14123.9 (0.60 seconds)\n",
      "Cbc0038I Round again with cutoff of -14124.7\n",
      "Cbc0038I Reduced cost fixing fixed 4219 variables on major pass 3\n",
      "Cbc0038I Pass  32: suminf.    1.46395 (7) obj. -14124.7 iterations 79\n",
      "Cbc0038I Pass  33: suminf.    1.22946 (4) obj. -14124.7 iterations 549\n",
      "Cbc0038I Pass  34: suminf.    1.06667 (3) obj. -14126.7 iterations 88\n",
      "Cbc0038I Pass  35: suminf.    1.27694 (3) obj. -14124.7 iterations 361\n",
      "Cbc0038I Pass  36: suminf.    1.06667 (3) obj. -14126.7 iterations 420\n",
      "Cbc0038I Pass  37: suminf.    3.11953 (10) obj. -14124.7 iterations 422\n",
      "Cbc0038I Pass  38: suminf.    2.42232 (9) obj. -14124.7 iterations 458\n",
      "Cbc0038I Pass  39: suminf.    4.51606 (12) obj. -14124.7 iterations 635\n",
      "Cbc0038I Pass  40: suminf.    2.42232 (8) obj. -14124.7 iterations 535\n",
      "Cbc0038I Pass  41: suminf.    2.42232 (8) obj. -14124.7 iterations 10\n",
      "Cbc0038I Pass  42: suminf.    3.90672 (10) obj. -14124.7 iterations 624\n",
      "Cbc0038I Pass  43: suminf.    2.38912 (9) obj. -14124.7 iterations 566\n",
      "Cbc0038I Pass  44: suminf.    2.38912 (9) obj. -14124.7 iterations 10\n",
      "Cbc0038I Pass  45: suminf.    3.70283 (11) obj. -14124.7 iterations 598\n",
      "Cbc0038I Pass  46: suminf.    2.38912 (9) obj. -14124.7 iterations 601\n",
      "Cbc0038I Pass  47: suminf.    2.38912 (9) obj. -14124.7 iterations 153\n",
      "Cbc0038I Pass  48: suminf.    2.38912 (9) obj. -14124.7 iterations 186\n",
      "Cbc0038I Pass  49: suminf.    2.57356 (9) obj. -14124.7 iterations 518\n",
      "Cbc0038I Pass  50: suminf.    1.51525 (7) obj. -14124.7 iterations 327\n",
      "Cbc0038I Pass  51: suminf.    1.51525 (7) obj. -14124.7 iterations 10\n",
      "Cbc0038I Pass  52: suminf.    2.15828 (8) obj. -14124.7 iterations 467\n",
      "Cbc0038I Pass  53: suminf.    1.51525 (7) obj. -14124.7 iterations 481\n",
      "Cbc0038I Pass  54: suminf.    1.51525 (7) obj. -14124.7 iterations 10\n",
      "Cbc0038I Pass  55: suminf.    2.47439 (12) obj. -14124.7 iterations 459\n",
      "Cbc0038I Pass  56: suminf.    1.57517 (7) obj. -14124.7 iterations 516\n",
      "Cbc0038I Pass  57: suminf.    2.10299 (8) obj. -14124.7 iterations 509\n",
      "Cbc0038I Pass  58: suminf.    1.57517 (7) obj. -14124.7 iterations 495\n",
      "Cbc0038I Pass  59: suminf.    3.09159 (9) obj. -14124.7 iterations 503\n",
      "Cbc0038I Pass  60: suminf.    2.53344 (10) obj. -14124.7 iterations 259\n",
      "Cbc0038I Pass  61: suminf.    2.53344 (10) obj. -14124.7 iterations 8\n",
      "Cbc0038I No solution found this major pass\n",
      "Cbc0038I Before mini branch and bound, 7785 integers at bound fixed and 0 continuous\n",
      "Cbc0038I Full problem 2272 rows 7924 columns, reduced to 22 rows 74 columns\n",
      "Cbc0038I Mini branch and bound did not improve solution (1.04 seconds)\n",
      "Cbc0038I After 1.04 seconds - Feasibility pump exiting with objective of -14123.9 - took 0.83 seconds\n",
      "Cbc0012I Integer solution of -14123.915 found by feasibility pump after 0 iterations and 0 nodes (1.04 seconds)\n",
      "Cbc0038I Full problem 2272 rows 7924 columns, reduced to 6 rows 13 columns\n",
      "Cbc0031I 2 added rows had average density of 2264\n",
      "Cbc0013I At root node, 2 cuts changed objective from -14127.726 to -14127.674 in 3 passes\n",
      "Cbc0014I Cut generator 0 (Probing) - 0 row cuts average 0.0 elements, 0 column cuts (0 active)  in 0.003 seconds - new frequency is -100\n",
      "Cbc0014I Cut generator 1 (Gomory) - 0 row cuts average 0.0 elements, 0 column cuts (0 active)  in 0.003 seconds - new frequency is -100\n",
      "Cbc0014I Cut generator 2 (Knapsack) - 0 row cuts average 0.0 elements, 0 column cuts (0 active)  in 0.007 seconds - new frequency is -100\n",
      "Cbc0014I Cut generator 3 (Clique) - 0 row cuts average 0.0 elements, 0 column cuts (0 active)  in 0.000 seconds - new frequency is -100\n",
      "Cbc0014I Cut generator 4 (MixedIntegerRounding2) - 3 row cuts average 2264.0 elements, 0 column cuts (0 active)  in 0.003 seconds - new frequency is 1\n",
      "Cbc0014I Cut generator 5 (FlowCover) - 0 row cuts average 0.0 elements, 0 column cuts (0 active)  in 0.000 seconds - new frequency is -100\n",
      "Cbc0010I After 0 nodes, 1 on tree, -14123.915 best solution, best possible -14127.674 (1.10 seconds)\n",
      "Cbc0038I Full problem 2272 rows 7924 columns, reduced to 10 rows 25 columns\n",
      "Cbc0038I Full problem 2274 rows 7924 columns, reduced to 315 rows 1527 columns\n",
      "Cbc0044I Reduced cost fixing - 315 rows, 1527 columns - restarting search\n",
      "Cbc0012I Integer solution of -14123.915 found by Previous solution after 0 iterations and 0 nodes (1.38 seconds)\n",
      "Cbc0038I Full problem 315 rows 1527 columns, reduced to 7 rows 15 columns\n",
      "Cbc0031I 4 added rows had average density of 111.5\n",
      "Cbc0013I At root node, 4 cuts changed objective from -14127.726 to -14125.592 in 11 passes\n",
      "Cbc0014I Cut generator 0 (Probing) - 0 row cuts average 0.0 elements, 0 column cuts (0 active)  in 0.007 seconds - new frequency is -100\n",
      "Cbc0014I Cut generator 1 (Gomory) - 4 row cuts average 468.2 elements, 0 column cuts (0 active)  in 0.010 seconds - new frequency is -100\n",
      "Cbc0014I Cut generator 2 (Knapsack) - 0 row cuts average 0.0 elements, 0 column cuts (0 active)  in 0.007 seconds - new frequency is -100\n",
      "Cbc0014I Cut generator 3 (Clique) - 0 row cuts average 0.0 elements, 0 column cuts (0 active)  in 0.000 seconds - new frequency is -100\n",
      "Cbc0014I Cut generator 4 (MixedIntegerRounding2) - 15 row cuts average 249.5 elements, 0 column cuts (0 active)  in 0.004 seconds - new frequency is 1\n",
      "Cbc0014I Cut generator 5 (FlowCover) - 0 row cuts average 0.0 elements, 0 column cuts (0 active)  in 0.000 seconds - new frequency is -100\n",
      "Cbc0014I Cut generator 6 (TwoMirCuts) - 22 row cuts average 248.3 elements, 0 column cuts (0 active)  in 0.006 seconds - new frequency is -100\n",
      "Cbc0014I Cut generator 7 (ZeroHalf) - 1 row cuts average 67.0 elements, 0 column cuts (0 active)  in 0.036 seconds - new frequency is -100\n",
      "Cbc0014I Cut generator 9 (Stored from first) - 4 row cuts average 262.0 elements, 0 column cuts (0 active)\n",
      "Cbc0010I After 0 nodes, 1 on tree, -14123.915 best solution, best possible -14125.592 (1.50 seconds)\n",
      "Cbc0012I Integer solution of -14124.895 found by DiveCoefficient after 135 iterations and 3 nodes (1.52 seconds)\n",
      "Cbc0001I Search completed - best objective -14124.89543, took 380 iterations and 30 nodes (1.72 seconds)\n",
      "Cbc0032I Strong branching done 486 times (1573 iterations), fathomed 8 nodes and fixed 20 variables\n",
      "Cbc0035I Maximum depth 7, 727 variables fixed on reduced cost\n",
      "Cbc0038I Probing was tried 11 times and created 0 cuts of which 0 were active after adding rounds of cuts (0.007 seconds)\n",
      "Cbc0038I Gomory was tried 11 times and created 4 cuts of which 0 were active after adding rounds of cuts (0.010 seconds)\n",
      "Cbc0038I Knapsack was tried 11 times and created 0 cuts of which 0 were active after adding rounds of cuts (0.007 seconds)\n",
      "Cbc0038I Clique was tried 11 times and created 0 cuts of which 0 were active after adding rounds of cuts (0.000 seconds)\n",
      "Cbc0038I MixedIntegerRounding2 was tried 38 times and created 45 cuts of which 0 were active after adding rounds of cuts (0.009 seconds)\n",
      "Cbc0038I FlowCover was tried 11 times and created 0 cuts of which 0 were active after adding rounds of cuts (0.000 seconds)\n",
      "Cbc0038I TwoMirCuts was tried 11 times and created 22 cuts of which 0 were active after adding rounds of cuts (0.006 seconds)\n",
      "Cbc0038I ZeroHalf was tried 11 times and created 1 cuts of which 0 were active after adding rounds of cuts (0.036 seconds)\n",
      "Cbc0038I Stored from first was tried 38 times and created 7 cuts of which 0 were active after adding rounds of cuts (0.000 seconds)\n",
      "Cbc0012I Integer solution of -14124.895 found by Reduced search after 925 iterations and 80 nodes (1.72 seconds)\n",
      "Cbc0001I Search completed - best objective -14124.89543, took 925 iterations and 80 nodes (1.72 seconds)\n",
      "Cbc0032I Strong branching done 620 times (3246 iterations), fathomed 8 nodes and fixed 10 variables\n",
      "Cbc0035I Maximum depth 20, 6287 variables fixed on reduced cost\n",
      "Cuts at root node changed objective from -14127.7 to -14127.7\n",
      "Probing was tried 3 times and created 0 cuts of which 0 were active after adding rounds of cuts (0.003 seconds)\n",
      "Gomory was tried 3 times and created 0 cuts of which 0 were active after adding rounds of cuts (0.003 seconds)\n",
      "Knapsack was tried 3 times and created 0 cuts of which 0 were active after adding rounds of cuts (0.007 seconds)\n",
      "Clique was tried 3 times and created 0 cuts of which 0 were active after adding rounds of cuts (0.000 seconds)\n",
      "MixedIntegerRounding2 was tried 16 times and created 5 cuts of which 0 were active after adding rounds of cuts (0.012 seconds)\n",
      "FlowCover was tried 3 times and created 0 cuts of which 0 were active after adding rounds of cuts (0.000 seconds)\n",
      "TwoMirCuts was tried 1 times and created 0 cuts of which 0 were active after adding rounds of cuts (0.001 seconds)\n",
      "ZeroHalf was tried 1 times and created 0 cuts of which 0 were active after adding rounds of cuts (0.003 seconds)\n",
      "\n",
      "Result - Optimal solution found\n",
      "\n",
      "Objective value:                14124.89543000\n",
      "Enumerated nodes:               80\n",
      "Total iterations:               925\n",
      "Time (CPU seconds):             1.67\n",
      "Time (Wallclock seconds):       1.73\n",
      "\n",
      "Option for printingOptions changed from normal to all\n",
      "Total time (CPU seconds):       1.69   (Wallclock seconds):       1.76\n"
     ]
    }
   ],
   "source": [
    "lambda_c = {'Utilities': 0.3, 'Shopping': 0.3, 'Holiday': 0.1}\n",
    "lambda_d = {'Sport event tickets': 0.05, 'Facebook Marketplace Upfront payment': 0.05, 'Clothes Online additional posting payment': 0.05}\n",
    "daily_budget = 10000\n",
    "\n",
    "days = list(transactions['date'].unique())\n",
    "df1 = transactions[transactions['date'] == days[1]]\n",
    "\n",
    "internal, external, evs = solve_initial_model(df1, lambda_c, lambda_d, daily_budget)"
   ],
   "metadata": {
    "collapsed": false,
    "ExecuteTime": {
     "end_time": "2023-11-21T18:11:44.879814Z",
     "start_time": "2023-11-21T18:11:42.859983Z"
    }
   },
   "id": "3551e8b9903856fe"
  },
  {
   "cell_type": "code",
   "execution_count": 158,
   "outputs": [],
   "source": [
    "def compute_real_value_saved(internally_investigated, externally_investigated, transactions_df, fraudulent_transactions):\n",
    "    \"\"\"\n",
    "    Calculates the actual value saved by the investigations based on the transactions flagged as fraudulent.\n",
    "\n",
    "    Parameters:\n",
    "    - x_ids (list): List of transaction IDs selected for internal investigation.\n",
    "    - y_ids (list): List of transaction IDs selected for external investigation.\n",
    "    - transactions_df (pd.DataFrame): DataFrame containing transaction details.\n",
    "    - fraudulent_transactions (set): Set of IDs of transactions that are actually fraudulent.\n",
    "\n",
    "    Returns:\n",
    "    float: The total value saved by the investigations.\n",
    "    \"\"\"\n",
    "    cost = transactions_df[\"priority\"].map(EXTERNAL_INVESTIGATOR_COST)\n",
    "\n",
    "    total_value_saved = 0\n",
    "\n",
    "    # Iterate over identified transactions and calculate total value saved\n",
    "    for i in internally_investigated + externally_investigated:\n",
    "        if i in fraudulent_transactions:\n",
    "            print(i)\n",
    "            amount = transactions_df.at[i, \"amount\"]  # Transaction value\n",
    "            is_fraud = 1  # Flag indicating the transaction is fraudulent\n",
    "            external_flag = 1 if i in externally_investigated else 0  # Flag for external investigation\n",
    "\n",
    "            # Calculating value saved for each transaction\n",
    "            total_value_saved += amount * is_fraud - cost[i] * external_flag\n",
    "\n",
    "    return total_value_saved"
   ],
   "metadata": {
    "collapsed": false,
    "ExecuteTime": {
     "end_time": "2023-11-21T18:14:18.304808Z",
     "start_time": "2023-11-21T18:14:18.297594Z"
    }
   },
   "id": "f07a97b72506c001"
  },
  {
   "cell_type": "code",
   "execution_count": 159,
   "outputs": [
    {
     "name": "stdout",
     "output_type": "stream",
     "text": [
      "3692\n",
      "2544\n"
     ]
    }
   ],
   "source": [
    "# Example usage:\n",
    "fraudulent_transactions = set(frauds['transaction_id'])\n",
    "\n",
    "real_value_saved = compute_real_value_saved(internal, external, df1, fraudulent_transactions)"
   ],
   "metadata": {
    "collapsed": false,
    "ExecuteTime": {
     "end_time": "2023-11-21T18:14:18.722260Z",
     "start_time": "2023-11-21T18:14:18.718319Z"
    }
   },
   "id": "b1684dc117ffe79c"
  },
  {
   "cell_type": "code",
   "execution_count": 105,
   "outputs": [
    {
     "data": {
      "text/plain": "193.95"
     },
     "execution_count": 105,
     "metadata": {},
     "output_type": "execute_result"
    }
   ],
   "source": [
    "real_value_saved"
   ],
   "metadata": {
    "collapsed": false,
    "ExecuteTime": {
     "end_time": "2023-11-21T15:58:57.691096Z",
     "start_time": "2023-11-21T15:58:57.687512Z"
    }
   },
   "id": "9b88a91bd9695897"
  },
  {
   "cell_type": "code",
   "execution_count": 168,
   "outputs": [],
   "source": [
    "from pulp import *\n",
    "\n",
    "def solve_second_model(transactions_df, fraudulent_transactions, daily_budget):\n",
    "    \"\"\"\n",
    "    Solves a second optimization model focusing on maximizing the value saved by investigating known fraudulent transactions.\n",
    "\n",
    "    Parameters:\n",
    "    - transactions_df (pd.DataFrame): DataFrame containing transaction details.\n",
    "    - fraudulent_transactions (set): Set of transaction IDs known to be fraudulent.\n",
    "    - daily_budget (float): Budget available for external investigations.\n",
    "\n",
    "    Returns:\n",
    "    Tuple (list, list, float): Returns a tuple containing lists of transactions selected for \n",
    "    internal and external investigations, and the value at stake.\n",
    "    \"\"\"\n",
    "    # Extract necessary data\n",
    "    amount = transactions_df[\"amount\"]\n",
    "    cost = transactions_df[\"priority\"].map(EXTERNAL_INVESTIGATOR_COST)\n",
    "    investigation_time = transactions_df[\"priority\"].map(TIME_NEEDED)\n",
    "\n",
    "    # Define the linear programming model\n",
    "    model = LpProblem(\"Fraud_Investigation_Focused\", LpMaximize)\n",
    "\n",
    "    # Define decision variables for internal (x), external (y), and team assignments (z)\n",
    "    x = LpVariable.dicts(\"internally_investigate\", transactions_df.index, cat=\"Binary\")\n",
    "    y = LpVariable.dicts(\"externally_investigate\", transactions_df.index, cat=\"Binary\")\n",
    "    z = LpVariable.dicts(\"investigated_by_bank\",\n",
    "                         [(b, i) for b in INVESTIGATION_TEAM_SIZE.keys() for i in transactions_df.index],\n",
    "                         cat=\"Binary\")\n",
    "\n",
    "    # Define the objective function (only consider fraudulent transactions)\n",
    "    model += lpSum([amount[i] * (x[i] + y[i]) - cost[i] * y[i] for i in transactions_df.index if i in fraudulent_transactions])\n",
    "\n",
    "    # Add constraints similar to the first model\n",
    "    for i in transactions_df.index:\n",
    "        model += x[i] + y[i] <= 1\n",
    "    for b in INVESTIGATION_TEAM_SIZE:\n",
    "        model += lpSum([investigation_time[i] * z[(b, i)] for i in transactions_df.index]) <= INVESTIGATION_TEAM_SIZE[b]\n",
    "    for i in transactions_df.index:\n",
    "        model += lpSum([z[(b, i)] for b in INVESTIGATION_TEAM_SIZE]) == x[i]\n",
    "    model += lpSum([y[i] * cost[i] for i in transactions_df.index]) <= daily_budget\n",
    "\n",
    "    # Solve the model and extract results\n",
    "    model.solve()\n",
    "    internally_investigated = [i for i in transactions_df.index if x[i].varValue == 1]\n",
    "    externally_investigated = [i for i in transactions_df.index if y[i].varValue == 1]\n",
    "    value_at_stake = pulp.value(model.objective)\n",
    "\n",
    "    return internally_investigated, externally_investigated, value_at_stake\n"
   ],
   "metadata": {
    "collapsed": false,
    "ExecuteTime": {
     "end_time": "2023-11-21T18:18:27.411954Z",
     "start_time": "2023-11-21T18:18:27.407170Z"
    }
   },
   "id": "57cd4785413da3f"
  },
  {
   "cell_type": "code",
   "execution_count": 170,
   "outputs": [
    {
     "name": "stdout",
     "output_type": "stream",
     "text": [
      "Welcome to the CBC MILP Solver \n",
      "Version: 2.10.3 \n",
      "Build Date: Dec 15 2019 \n",
      "\n",
      "command line - /Users/uzaykaradag/.pyenv/versions/3.12.0/lib/python3.12/site-packages/pulp/solverdir/cbc/osx/64/cbc /var/folders/_g/3jdpr0d14q1g62hkp6vf5mlh0000gn/T/b2f373acadf247cd9cace81ca7830b2a-pulp.mps max timeMode elapsed branch printingOptions all solution /var/folders/_g/3jdpr0d14q1g62hkp6vf5mlh0000gn/T/b2f373acadf247cd9cace81ca7830b2a-pulp.sol (default strategy 1)\n",
      "At line 2 NAME          MODEL\n",
      "At line 3 ROWS\n",
      "At line 2275 COLUMNS\n",
      "At line 33984 RHS\n",
      "At line 36255 BOUNDS\n",
      "At line 44180 ENDATA\n",
      "Problem MODEL has 2270 rows, 7924 columns and 15848 elements\n",
      "Coin0008I MODEL read with 0 errors\n",
      "Option for timeMode changed from cpu to elapsed\n",
      "Continuous objective value is 360.95 - 0.01 seconds\n",
      "Cgl0004I processed model has 1137 rows, 5666 columns (5666 integer (5666 of which binary)) and 11326 elements\n",
      "Cutoff increment increased from 1e-05 to 0.04995\n",
      "Cbc0038I Initial state - 0 integers unsatisfied sum - 0\n",
      "Cbc0038I Solution found of -360.95\n",
      "Cbc0038I Before mini branch and bound, 5666 integers at bound fixed and 0 continuous\n",
      "Cbc0038I Mini branch and bound did not improve solution (0.06 seconds)\n",
      "Cbc0038I After 0.06 seconds - Feasibility pump exiting with objective of -360.95 - took 0.00 seconds\n",
      "Cbc0012I Integer solution of -360.95 found by feasibility pump after 0 iterations and 0 nodes (0.06 seconds)\n",
      "Cbc0001I Search completed - best objective -360.95, took 0 iterations and 0 nodes (0.06 seconds)\n",
      "Cbc0035I Maximum depth 0, 0 variables fixed on reduced cost\n",
      "Cuts at root node changed objective from -360.95 to -360.95\n",
      "Probing was tried 0 times and created 0 cuts of which 0 were active after adding rounds of cuts (0.000 seconds)\n",
      "Gomory was tried 0 times and created 0 cuts of which 0 were active after adding rounds of cuts (0.000 seconds)\n",
      "Knapsack was tried 0 times and created 0 cuts of which 0 were active after adding rounds of cuts (0.000 seconds)\n",
      "Clique was tried 0 times and created 0 cuts of which 0 were active after adding rounds of cuts (0.000 seconds)\n",
      "MixedIntegerRounding2 was tried 0 times and created 0 cuts of which 0 were active after adding rounds of cuts (0.000 seconds)\n",
      "FlowCover was tried 0 times and created 0 cuts of which 0 were active after adding rounds of cuts (0.000 seconds)\n",
      "TwoMirCuts was tried 0 times and created 0 cuts of which 0 were active after adding rounds of cuts (0.000 seconds)\n",
      "ZeroHalf was tried 0 times and created 0 cuts of which 0 were active after adding rounds of cuts (0.000 seconds)\n",
      "\n",
      "Result - Optimal solution found\n",
      "\n",
      "Objective value:                360.95000000\n",
      "Enumerated nodes:               0\n",
      "Total iterations:               0\n",
      "Time (CPU seconds):             0.06\n",
      "Time (Wallclock seconds):       0.07\n",
      "\n",
      "Option for printingOptions changed from normal to all\n",
      "Total time (CPU seconds):       0.08   (Wallclock seconds):       0.09\n"
     ]
    }
   ],
   "source": [
    "x_ids, y_ids, value_at_stake = solve_second_model(df1, fraudulent_transactions, daily_budget)"
   ],
   "metadata": {
    "collapsed": false,
    "ExecuteTime": {
     "end_time": "2023-11-21T18:18:57.968727Z",
     "start_time": "2023-11-21T18:18:57.774976Z"
    }
   },
   "id": "5e42f7419e30452a"
  },
  {
   "cell_type": "code",
   "execution_count": 171,
   "outputs": [
    {
     "data": {
      "text/plain": "167.00000000000006"
     },
     "execution_count": 171,
     "metadata": {},
     "output_type": "execute_result"
    }
   ],
   "source": [
    "value_at_stake - real_value_saved"
   ],
   "metadata": {
    "collapsed": false,
    "ExecuteTime": {
     "end_time": "2023-11-21T18:19:14.774418Z",
     "start_time": "2023-11-21T18:19:14.770661Z"
    }
   },
   "id": "bd5656a9fda6506d"
  },
  {
   "cell_type": "code",
   "execution_count": 117,
   "outputs": [
    {
     "data": {
      "text/plain": "transaction_id\n3350     70.00\n2869     70.00\n2871     40.75\n2868     75.25\n2875     55.25\n         ...  \n3652    249.99\n3663     55.00\n3664     85.50\n3246    120.30\n3307     45.00\nName: amount, Length: 1132, dtype: float64"
     },
     "execution_count": 117,
     "metadata": {},
     "output_type": "execute_result"
    }
   ],
   "source": [
    "df1['amount']"
   ],
   "metadata": {
    "collapsed": false,
    "ExecuteTime": {
     "end_time": "2023-11-21T16:08:44.085179Z",
     "start_time": "2023-11-21T16:08:44.071393Z"
    }
   },
   "id": "4b7904b6cd51ffaa"
  },
  {
   "cell_type": "code",
   "execution_count": 120,
   "outputs": [],
   "source": [
    "import fraud_detection as fd"
   ],
   "metadata": {
    "collapsed": false,
    "ExecuteTime": {
     "end_time": "2023-11-21T16:36:18.118564Z",
     "start_time": "2023-11-21T16:36:18.112194Z"
    }
   },
   "id": "783dd75ec10afef2"
  },
  {
   "cell_type": "code",
   "execution_count": 128,
   "outputs": [
    {
     "name": "stdout",
     "output_type": "stream",
     "text": [
      "Welcome to the CBC MILP Solver \n",
      "Version: 2.10.3 \n",
      "Build Date: Dec 15 2019 \n",
      "\n",
      "command line - /Users/uzaykaradag/.pyenv/versions/3.12.0/lib/python3.12/site-packages/pulp/solverdir/cbc/osx/64/cbc /var/folders/_g/3jdpr0d14q1g62hkp6vf5mlh0000gn/T/c5e0a14dc0f644a2b1234e0a43b80502-pulp.mps max timeMode elapsed branch printingOptions all solution /var/folders/_g/3jdpr0d14q1g62hkp6vf5mlh0000gn/T/c5e0a14dc0f644a2b1234e0a43b80502-pulp.sol (default strategy 1)\n",
      "At line 2 NAME          MODEL\n",
      "At line 3 ROWS\n",
      "At line 2277 COLUMNS\n",
      "At line 40766 RHS\n",
      "At line 43039 BOUNDS\n",
      "At line 50964 ENDATA\n",
      "Problem MODEL has 2272 rows, 7924 columns and 20376 elements\n",
      "Coin0008I MODEL read with 0 errors\n",
      "Option for timeMode changed from cpu to elapsed\n",
      "Continuous objective value is 14214.1 - 0.04 seconds\n",
      "Cgl0004I processed model has 2272 rows, 7924 columns (7924 integer (7924 of which binary)) and 20376 elements\n",
      "Cbc0038I Initial state - 0 integers unsatisfied sum - 9.29257e-14\n",
      "Cbc0038I Solution found of -14214.1\n",
      "Cbc0038I Before mini branch and bound, 7924 integers at bound fixed and 0 continuous\n",
      "Cbc0038I Mini branch and bound did not improve solution (0.15 seconds)\n",
      "Cbc0038I After 0.15 seconds - Feasibility pump exiting with objective of -14214.1 - took 0.01 seconds\n",
      "Cbc0012I Integer solution of -14214.054 found by feasibility pump after 0 iterations and 0 nodes (0.15 seconds)\n",
      "Cbc0001I Search completed - best objective -14214.05407, took 0 iterations and 0 nodes (0.15 seconds)\n",
      "Cbc0035I Maximum depth 0, 0 variables fixed on reduced cost\n",
      "Cuts at root node changed objective from -14214.1 to -14214.1\n",
      "Probing was tried 0 times and created 0 cuts of which 0 were active after adding rounds of cuts (0.000 seconds)\n",
      "Gomory was tried 0 times and created 0 cuts of which 0 were active after adding rounds of cuts (0.000 seconds)\n",
      "Knapsack was tried 0 times and created 0 cuts of which 0 were active after adding rounds of cuts (0.000 seconds)\n",
      "Clique was tried 0 times and created 0 cuts of which 0 were active after adding rounds of cuts (0.000 seconds)\n",
      "MixedIntegerRounding2 was tried 0 times and created 0 cuts of which 0 were active after adding rounds of cuts (0.000 seconds)\n",
      "FlowCover was tried 0 times and created 0 cuts of which 0 were active after adding rounds of cuts (0.000 seconds)\n",
      "TwoMirCuts was tried 0 times and created 0 cuts of which 0 were active after adding rounds of cuts (0.000 seconds)\n",
      "ZeroHalf was tried 0 times and created 0 cuts of which 0 were active after adding rounds of cuts (0.000 seconds)\n",
      "\n",
      "Result - Optimal solution found\n",
      "\n",
      "Objective value:                14214.05407000\n",
      "Enumerated nodes:               0\n",
      "Total iterations:               0\n",
      "Time (CPU seconds):             0.13\n",
      "Time (Wallclock seconds):       0.16\n",
      "\n",
      "Option for printingOptions changed from normal to all\n",
      "Total time (CPU seconds):       0.15   (Wallclock seconds):       0.19\n"
     ]
    },
    {
     "ename": "TypeError",
     "evalue": "'Series' object is not callable",
     "output_type": "error",
     "traceback": [
      "\u001B[0;31m---------------------------------------------------------------------------\u001B[0m",
      "\u001B[0;31mTypeError\u001B[0m                                 Traceback (most recent call last)",
      "Cell \u001B[0;32mIn[128], line 11\u001B[0m\n\u001B[1;32m      7\u001B[0m lambda_d_values \u001B[38;5;241m=\u001B[39m [{\u001B[38;5;124m'\u001B[39m\u001B[38;5;124mClothesOnline additional posting payment\u001B[39m\u001B[38;5;124m'\u001B[39m: \u001B[38;5;241m0.05\u001B[39m}]\n\u001B[1;32m     10\u001B[0m \u001B[38;5;66;03m# Example usage of calculate_loss function (assuming the rest of the setup is the same)\u001B[39;00m\n\u001B[0;32m---> 11\u001B[0m results \u001B[38;5;241m=\u001B[39m \u001B[43mfd\u001B[49m\u001B[38;5;241;43m.\u001B[39;49m\u001B[43mcalculate_loss\u001B[49m\u001B[43m(\u001B[49m\u001B[43mdf1\u001B[49m\u001B[43m,\u001B[49m\u001B[43m \u001B[49m\u001B[43mfraudulent_transactions\u001B[49m\u001B[43m,\u001B[49m\u001B[43m \u001B[49m\u001B[43mdaily_budget\u001B[49m\u001B[43m,\u001B[49m\u001B[43m \u001B[49m\u001B[43mlambda_c_values\u001B[49m\u001B[43m,\u001B[49m\u001B[43m \u001B[49m\u001B[43mlambda_d_values\u001B[49m\u001B[43m)\u001B[49m\n",
      "File \u001B[0;32m~/School/MMCS/mmcs-project/fraud_detection.py:171\u001B[0m, in \u001B[0;36mcalculate_loss\u001B[0;34m(transactions_df, fraudulent_transactions, daily_budget, lambda_c_values, lambda_d_values)\u001B[0m\n\u001B[1;32m    168\u001B[0m \u001B[38;5;28;01mfor\u001B[39;00m lambda_c \u001B[38;5;129;01min\u001B[39;00m lambda_c_values:\n\u001B[1;32m    169\u001B[0m     \u001B[38;5;28;01mfor\u001B[39;00m lambda_d \u001B[38;5;129;01min\u001B[39;00m lambda_d_values:\n\u001B[1;32m    170\u001B[0m         \u001B[38;5;66;03m# Solve the initial model\u001B[39;00m\n\u001B[0;32m--> 171\u001B[0m         internal_ids, external_ids, _ \u001B[38;5;241m=\u001B[39m \u001B[43msolve_initial_model\u001B[49m\u001B[43m(\u001B[49m\n\u001B[1;32m    172\u001B[0m \u001B[43m            \u001B[49m\u001B[43mtransactions_df\u001B[49m\u001B[43m,\u001B[49m\u001B[43m \u001B[49m\u001B[43mlambda_c\u001B[49m\u001B[43m,\u001B[49m\u001B[43m \u001B[49m\u001B[43mlambda_d\u001B[49m\u001B[43m,\u001B[49m\u001B[43m \u001B[49m\u001B[43mdaily_budget\u001B[49m\n\u001B[1;32m    173\u001B[0m \u001B[43m        \u001B[49m\u001B[43m)\u001B[49m\n\u001B[1;32m    175\u001B[0m         \u001B[38;5;66;03m# Compute real value saved\u001B[39;00m\n\u001B[1;32m    176\u001B[0m         total_value_saved \u001B[38;5;241m=\u001B[39m compute_real_value_saved(\n\u001B[1;32m    177\u001B[0m             internal_ids, external_ids, transactions_df, fraudulent_transactions\n\u001B[1;32m    178\u001B[0m         )\n",
      "File \u001B[0;32m~/School/MMCS/mmcs-project/fraud_detection.py:69\u001B[0m, in \u001B[0;36msolve_initial_model\u001B[0;34m(transactions_df, lambda_c, lambda_d, daily_budget)\u001B[0m\n\u001B[1;32m     67\u001B[0m \u001B[38;5;66;03m# Solve the model and extract results\u001B[39;00m\n\u001B[1;32m     68\u001B[0m model\u001B[38;5;241m.\u001B[39msolve()\n\u001B[0;32m---> 69\u001B[0m internally_investigated \u001B[38;5;241m=\u001B[39m [i \u001B[38;5;28;01mfor\u001B[39;00m i \u001B[38;5;129;01min\u001B[39;00m transactions_df\u001B[38;5;241m.\u001B[39mindex \u001B[38;5;28;01mif\u001B[39;00m x[i]\u001B[38;5;241m.\u001B[39mvarValue \u001B[38;5;241m==\u001B[39m \u001B[38;5;241m1\u001B[39m]\n\u001B[1;32m     70\u001B[0m externally_investigated \u001B[38;5;241m=\u001B[39m [i \u001B[38;5;28;01mfor\u001B[39;00m i \u001B[38;5;129;01min\u001B[39;00m transactions_df\u001B[38;5;241m.\u001B[39mindex \u001B[38;5;28;01mif\u001B[39;00m y[i]\u001B[38;5;241m.\u001B[39mvarValue \u001B[38;5;241m==\u001B[39m \u001B[38;5;241m1\u001B[39m]\n\u001B[1;32m     71\u001B[0m expected_value_saved \u001B[38;5;241m=\u001B[39m value(model\u001B[38;5;241m.\u001B[39mobjective)\n",
      "\u001B[0;31mTypeError\u001B[0m: 'Series' object is not callable"
     ]
    }
   ],
   "source": [
    "import numpy as np\n",
    "\n",
    "fraudulent_transactions = set(frauds['transaction_id'])\n",
    "\n",
    "# Define the base lambda_c\n",
    "lambda_c_values = [{'Utilities': 0.5}]\n",
    "lambda_d_values = [{'ClothesOnline additional posting payment': 0.05}]\n",
    "\n",
    "\n",
    "# Example usage of calculate_loss function (assuming the rest of the setup is the same)\n",
    "results = fd.calculate_loss(df1, fraudulent_transactions, daily_budget, lambda_c_values, lambda_d_values)"
   ],
   "metadata": {
    "collapsed": false,
    "ExecuteTime": {
     "end_time": "2023-11-21T17:52:58.044960Z",
     "start_time": "2023-11-21T17:52:57.547885Z"
    }
   },
   "id": "1279c0ad697b912d"
  },
  {
   "cell_type": "code",
   "execution_count": null,
   "outputs": [],
   "source": [],
   "metadata": {
    "collapsed": false
   },
   "id": "b68138972aab25ee"
  }
 ],
 "metadata": {
  "kernelspec": {
   "display_name": "Python 3",
   "language": "python",
   "name": "python3"
  },
  "language_info": {
   "codemirror_mode": {
    "name": "ipython",
    "version": 2
   },
   "file_extension": ".py",
   "mimetype": "text/x-python",
   "name": "python",
   "nbconvert_exporter": "python",
   "pygments_lexer": "ipython2",
   "version": "2.7.6"
  }
 },
 "nbformat": 4,
 "nbformat_minor": 5
}
